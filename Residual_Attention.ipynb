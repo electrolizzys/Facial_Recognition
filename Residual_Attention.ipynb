{
  "nbformat": 4,
  "nbformat_minor": 0,
  "metadata": {
    "colab": {
      "provenance": [],
      "gpuType": "T4",
      "authorship_tag": "ABX9TyOOFHe+wdrCq/egdtQu5pco",
      "include_colab_link": true
    },
    "kernelspec": {
      "name": "python3",
      "display_name": "Python 3"
    },
    "language_info": {
      "name": "python"
    },
    "accelerator": "GPU"
  },
  "cells": [
    {
      "cell_type": "markdown",
      "metadata": {
        "id": "view-in-github",
        "colab_type": "text"
      },
      "source": [
        "<a href=\"https://colab.research.google.com/github/electrolizzys/Facial_Recognition/blob/main/Residual_Attention.ipynb\" target=\"_parent\"><img src=\"https://colab.research.google.com/assets/colab-badge.svg\" alt=\"Open In Colab\"/></a>"
      ]
    },
    {
      "cell_type": "code",
      "source": [
        "!pip install torch torchvision torchaudio\n",
        "!pip install wandb\n",
        "!pip install kaggle"
      ],
      "metadata": {
        "colab": {
          "base_uri": "https://localhost:8080/"
        },
        "id": "aXTVnbHcHea5",
        "outputId": "e228101c-09aa-4329-c042-42f6c69063ea"
      },
      "execution_count": 1,
      "outputs": [
        {
          "output_type": "stream",
          "name": "stdout",
          "text": [
            "Requirement already satisfied: torch in /usr/local/lib/python3.11/dist-packages (2.6.0+cu124)\n",
            "Requirement already satisfied: torchvision in /usr/local/lib/python3.11/dist-packages (0.21.0+cu124)\n",
            "Requirement already satisfied: torchaudio in /usr/local/lib/python3.11/dist-packages (2.6.0+cu124)\n",
            "Requirement already satisfied: filelock in /usr/local/lib/python3.11/dist-packages (from torch) (3.18.0)\n",
            "Requirement already satisfied: typing-extensions>=4.10.0 in /usr/local/lib/python3.11/dist-packages (from torch) (4.14.0)\n",
            "Requirement already satisfied: networkx in /usr/local/lib/python3.11/dist-packages (from torch) (3.5)\n",
            "Requirement already satisfied: jinja2 in /usr/local/lib/python3.11/dist-packages (from torch) (3.1.6)\n",
            "Requirement already satisfied: fsspec in /usr/local/lib/python3.11/dist-packages (from torch) (2025.3.2)\n",
            "Collecting nvidia-cuda-nvrtc-cu12==12.4.127 (from torch)\n",
            "  Downloading nvidia_cuda_nvrtc_cu12-12.4.127-py3-none-manylinux2014_x86_64.whl.metadata (1.5 kB)\n",
            "Collecting nvidia-cuda-runtime-cu12==12.4.127 (from torch)\n",
            "  Downloading nvidia_cuda_runtime_cu12-12.4.127-py3-none-manylinux2014_x86_64.whl.metadata (1.5 kB)\n",
            "Collecting nvidia-cuda-cupti-cu12==12.4.127 (from torch)\n",
            "  Downloading nvidia_cuda_cupti_cu12-12.4.127-py3-none-manylinux2014_x86_64.whl.metadata (1.6 kB)\n",
            "Collecting nvidia-cudnn-cu12==9.1.0.70 (from torch)\n",
            "  Downloading nvidia_cudnn_cu12-9.1.0.70-py3-none-manylinux2014_x86_64.whl.metadata (1.6 kB)\n",
            "Collecting nvidia-cublas-cu12==12.4.5.8 (from torch)\n",
            "  Downloading nvidia_cublas_cu12-12.4.5.8-py3-none-manylinux2014_x86_64.whl.metadata (1.5 kB)\n",
            "Collecting nvidia-cufft-cu12==11.2.1.3 (from torch)\n",
            "  Downloading nvidia_cufft_cu12-11.2.1.3-py3-none-manylinux2014_x86_64.whl.metadata (1.5 kB)\n",
            "Collecting nvidia-curand-cu12==10.3.5.147 (from torch)\n",
            "  Downloading nvidia_curand_cu12-10.3.5.147-py3-none-manylinux2014_x86_64.whl.metadata (1.5 kB)\n",
            "Collecting nvidia-cusolver-cu12==11.6.1.9 (from torch)\n",
            "  Downloading nvidia_cusolver_cu12-11.6.1.9-py3-none-manylinux2014_x86_64.whl.metadata (1.6 kB)\n",
            "Collecting nvidia-cusparse-cu12==12.3.1.170 (from torch)\n",
            "  Downloading nvidia_cusparse_cu12-12.3.1.170-py3-none-manylinux2014_x86_64.whl.metadata (1.6 kB)\n",
            "Requirement already satisfied: nvidia-cusparselt-cu12==0.6.2 in /usr/local/lib/python3.11/dist-packages (from torch) (0.6.2)\n",
            "Requirement already satisfied: nvidia-nccl-cu12==2.21.5 in /usr/local/lib/python3.11/dist-packages (from torch) (2.21.5)\n",
            "Requirement already satisfied: nvidia-nvtx-cu12==12.4.127 in /usr/local/lib/python3.11/dist-packages (from torch) (12.4.127)\n",
            "Collecting nvidia-nvjitlink-cu12==12.4.127 (from torch)\n",
            "  Downloading nvidia_nvjitlink_cu12-12.4.127-py3-none-manylinux2014_x86_64.whl.metadata (1.5 kB)\n",
            "Requirement already satisfied: triton==3.2.0 in /usr/local/lib/python3.11/dist-packages (from torch) (3.2.0)\n",
            "Requirement already satisfied: sympy==1.13.1 in /usr/local/lib/python3.11/dist-packages (from torch) (1.13.1)\n",
            "Requirement already satisfied: mpmath<1.4,>=1.1.0 in /usr/local/lib/python3.11/dist-packages (from sympy==1.13.1->torch) (1.3.0)\n",
            "Requirement already satisfied: numpy in /usr/local/lib/python3.11/dist-packages (from torchvision) (2.0.2)\n",
            "Requirement already satisfied: pillow!=8.3.*,>=5.3.0 in /usr/local/lib/python3.11/dist-packages (from torchvision) (11.2.1)\n",
            "Requirement already satisfied: MarkupSafe>=2.0 in /usr/local/lib/python3.11/dist-packages (from jinja2->torch) (3.0.2)\n",
            "Downloading nvidia_cublas_cu12-12.4.5.8-py3-none-manylinux2014_x86_64.whl (363.4 MB)\n",
            "\u001b[2K   \u001b[90m━━━━━━━━━━━━━━━━━━━━━━━━━━━━━━━━━━━━━━━━\u001b[0m \u001b[32m363.4/363.4 MB\u001b[0m \u001b[31m3.5 MB/s\u001b[0m eta \u001b[36m0:00:00\u001b[0m\n",
            "\u001b[?25hDownloading nvidia_cuda_cupti_cu12-12.4.127-py3-none-manylinux2014_x86_64.whl (13.8 MB)\n",
            "\u001b[2K   \u001b[90m━━━━━━━━━━━━━━━━━━━━━━━━━━━━━━━━━━━━━━━━\u001b[0m \u001b[32m13.8/13.8 MB\u001b[0m \u001b[31m32.9 MB/s\u001b[0m eta \u001b[36m0:00:00\u001b[0m\n",
            "\u001b[?25hDownloading nvidia_cuda_nvrtc_cu12-12.4.127-py3-none-manylinux2014_x86_64.whl (24.6 MB)\n",
            "\u001b[2K   \u001b[90m━━━━━━━━━━━━━━━━━━━━━━━━━━━━━━━━━━━━━━━━\u001b[0m \u001b[32m24.6/24.6 MB\u001b[0m \u001b[31m20.3 MB/s\u001b[0m eta \u001b[36m0:00:00\u001b[0m\n",
            "\u001b[?25hDownloading nvidia_cuda_runtime_cu12-12.4.127-py3-none-manylinux2014_x86_64.whl (883 kB)\n",
            "\u001b[2K   \u001b[90m━━━━━━━━━━━━━━━━━━━━━━━━━━━━━━━━━━━━━━━━\u001b[0m \u001b[32m883.7/883.7 kB\u001b[0m \u001b[31m29.8 MB/s\u001b[0m eta \u001b[36m0:00:00\u001b[0m\n",
            "\u001b[?25hDownloading nvidia_cudnn_cu12-9.1.0.70-py3-none-manylinux2014_x86_64.whl (664.8 MB)\n",
            "\u001b[2K   \u001b[90m━━━━━━━━━━━━━━━━━━━━━━━━━━━━━━━━━━━━━━━━\u001b[0m \u001b[32m664.8/664.8 MB\u001b[0m \u001b[31m2.0 MB/s\u001b[0m eta \u001b[36m0:00:00\u001b[0m\n",
            "\u001b[?25hDownloading nvidia_cufft_cu12-11.2.1.3-py3-none-manylinux2014_x86_64.whl (211.5 MB)\n",
            "\u001b[2K   \u001b[90m━━━━━━━━━━━━━━━━━━━━━━━━━━━━━━━━━━━━━━━━\u001b[0m \u001b[32m211.5/211.5 MB\u001b[0m \u001b[31m6.3 MB/s\u001b[0m eta \u001b[36m0:00:00\u001b[0m\n",
            "\u001b[?25hDownloading nvidia_curand_cu12-10.3.5.147-py3-none-manylinux2014_x86_64.whl (56.3 MB)\n",
            "\u001b[2K   \u001b[90m━━━━━━━━━━━━━━━━━━━━━━━━━━━━━━━━━━━━━━━━\u001b[0m \u001b[32m56.3/56.3 MB\u001b[0m \u001b[31m11.9 MB/s\u001b[0m eta \u001b[36m0:00:00\u001b[0m\n",
            "\u001b[?25hDownloading nvidia_cusolver_cu12-11.6.1.9-py3-none-manylinux2014_x86_64.whl (127.9 MB)\n",
            "\u001b[2K   \u001b[90m━━━━━━━━━━━━━━━━━━━━━━━━━━━━━━━━━━━━━━━━\u001b[0m \u001b[32m127.9/127.9 MB\u001b[0m \u001b[31m8.2 MB/s\u001b[0m eta \u001b[36m0:00:00\u001b[0m\n",
            "\u001b[?25hDownloading nvidia_cusparse_cu12-12.3.1.170-py3-none-manylinux2014_x86_64.whl (207.5 MB)\n",
            "\u001b[2K   \u001b[90m━━━━━━━━━━━━━━━━━━━━━━━━━━━━━━━━━━━━━━━━\u001b[0m \u001b[32m207.5/207.5 MB\u001b[0m \u001b[31m7.0 MB/s\u001b[0m eta \u001b[36m0:00:00\u001b[0m\n",
            "\u001b[?25hDownloading nvidia_nvjitlink_cu12-12.4.127-py3-none-manylinux2014_x86_64.whl (21.1 MB)\n",
            "\u001b[2K   \u001b[90m━━━━━━━━━━━━━━━━━━━━━━━━━━━━━━━━━━━━━━━━\u001b[0m \u001b[32m21.1/21.1 MB\u001b[0m \u001b[31m60.2 MB/s\u001b[0m eta \u001b[36m0:00:00\u001b[0m\n",
            "\u001b[?25hInstalling collected packages: nvidia-nvjitlink-cu12, nvidia-curand-cu12, nvidia-cufft-cu12, nvidia-cuda-runtime-cu12, nvidia-cuda-nvrtc-cu12, nvidia-cuda-cupti-cu12, nvidia-cublas-cu12, nvidia-cusparse-cu12, nvidia-cudnn-cu12, nvidia-cusolver-cu12\n",
            "  Attempting uninstall: nvidia-nvjitlink-cu12\n",
            "    Found existing installation: nvidia-nvjitlink-cu12 12.5.82\n",
            "    Uninstalling nvidia-nvjitlink-cu12-12.5.82:\n",
            "      Successfully uninstalled nvidia-nvjitlink-cu12-12.5.82\n",
            "  Attempting uninstall: nvidia-curand-cu12\n",
            "    Found existing installation: nvidia-curand-cu12 10.3.6.82\n",
            "    Uninstalling nvidia-curand-cu12-10.3.6.82:\n",
            "      Successfully uninstalled nvidia-curand-cu12-10.3.6.82\n",
            "  Attempting uninstall: nvidia-cufft-cu12\n",
            "    Found existing installation: nvidia-cufft-cu12 11.2.3.61\n",
            "    Uninstalling nvidia-cufft-cu12-11.2.3.61:\n",
            "      Successfully uninstalled nvidia-cufft-cu12-11.2.3.61\n",
            "  Attempting uninstall: nvidia-cuda-runtime-cu12\n",
            "    Found existing installation: nvidia-cuda-runtime-cu12 12.5.82\n",
            "    Uninstalling nvidia-cuda-runtime-cu12-12.5.82:\n",
            "      Successfully uninstalled nvidia-cuda-runtime-cu12-12.5.82\n",
            "  Attempting uninstall: nvidia-cuda-nvrtc-cu12\n",
            "    Found existing installation: nvidia-cuda-nvrtc-cu12 12.5.82\n",
            "    Uninstalling nvidia-cuda-nvrtc-cu12-12.5.82:\n",
            "      Successfully uninstalled nvidia-cuda-nvrtc-cu12-12.5.82\n",
            "  Attempting uninstall: nvidia-cuda-cupti-cu12\n",
            "    Found existing installation: nvidia-cuda-cupti-cu12 12.5.82\n",
            "    Uninstalling nvidia-cuda-cupti-cu12-12.5.82:\n",
            "      Successfully uninstalled nvidia-cuda-cupti-cu12-12.5.82\n",
            "  Attempting uninstall: nvidia-cublas-cu12\n",
            "    Found existing installation: nvidia-cublas-cu12 12.5.3.2\n",
            "    Uninstalling nvidia-cublas-cu12-12.5.3.2:\n",
            "      Successfully uninstalled nvidia-cublas-cu12-12.5.3.2\n",
            "  Attempting uninstall: nvidia-cusparse-cu12\n",
            "    Found existing installation: nvidia-cusparse-cu12 12.5.1.3\n",
            "    Uninstalling nvidia-cusparse-cu12-12.5.1.3:\n",
            "      Successfully uninstalled nvidia-cusparse-cu12-12.5.1.3\n",
            "  Attempting uninstall: nvidia-cudnn-cu12\n",
            "    Found existing installation: nvidia-cudnn-cu12 9.3.0.75\n",
            "    Uninstalling nvidia-cudnn-cu12-9.3.0.75:\n",
            "      Successfully uninstalled nvidia-cudnn-cu12-9.3.0.75\n",
            "  Attempting uninstall: nvidia-cusolver-cu12\n",
            "    Found existing installation: nvidia-cusolver-cu12 11.6.3.83\n",
            "    Uninstalling nvidia-cusolver-cu12-11.6.3.83:\n",
            "      Successfully uninstalled nvidia-cusolver-cu12-11.6.3.83\n",
            "Successfully installed nvidia-cublas-cu12-12.4.5.8 nvidia-cuda-cupti-cu12-12.4.127 nvidia-cuda-nvrtc-cu12-12.4.127 nvidia-cuda-runtime-cu12-12.4.127 nvidia-cudnn-cu12-9.1.0.70 nvidia-cufft-cu12-11.2.1.3 nvidia-curand-cu12-10.3.5.147 nvidia-cusolver-cu12-11.6.1.9 nvidia-cusparse-cu12-12.3.1.170 nvidia-nvjitlink-cu12-12.4.127\n",
            "Requirement already satisfied: wandb in /usr/local/lib/python3.11/dist-packages (0.19.11)\n",
            "Requirement already satisfied: click!=8.0.0,>=7.1 in /usr/local/lib/python3.11/dist-packages (from wandb) (8.2.1)\n",
            "Requirement already satisfied: docker-pycreds>=0.4.0 in /usr/local/lib/python3.11/dist-packages (from wandb) (0.4.0)\n",
            "Requirement already satisfied: gitpython!=3.1.29,>=1.0.0 in /usr/local/lib/python3.11/dist-packages (from wandb) (3.1.44)\n",
            "Requirement already satisfied: platformdirs in /usr/local/lib/python3.11/dist-packages (from wandb) (4.3.8)\n",
            "Requirement already satisfied: protobuf!=4.21.0,!=5.28.0,<7,>=3.19.0 in /usr/local/lib/python3.11/dist-packages (from wandb) (5.29.5)\n",
            "Requirement already satisfied: psutil>=5.0.0 in /usr/local/lib/python3.11/dist-packages (from wandb) (5.9.5)\n",
            "Requirement already satisfied: pydantic<3 in /usr/local/lib/python3.11/dist-packages (from wandb) (2.11.5)\n",
            "Requirement already satisfied: pyyaml in /usr/local/lib/python3.11/dist-packages (from wandb) (6.0.2)\n",
            "Requirement already satisfied: requests<3,>=2.0.0 in /usr/local/lib/python3.11/dist-packages (from wandb) (2.32.3)\n",
            "Requirement already satisfied: sentry-sdk>=2.0.0 in /usr/local/lib/python3.11/dist-packages (from wandb) (2.29.1)\n",
            "Requirement already satisfied: setproctitle in /usr/local/lib/python3.11/dist-packages (from wandb) (1.3.6)\n",
            "Requirement already satisfied: setuptools in /usr/local/lib/python3.11/dist-packages (from wandb) (75.2.0)\n",
            "Requirement already satisfied: typing-extensions<5,>=4.4 in /usr/local/lib/python3.11/dist-packages (from wandb) (4.14.0)\n",
            "Requirement already satisfied: six>=1.4.0 in /usr/local/lib/python3.11/dist-packages (from docker-pycreds>=0.4.0->wandb) (1.17.0)\n",
            "Requirement already satisfied: gitdb<5,>=4.0.1 in /usr/local/lib/python3.11/dist-packages (from gitpython!=3.1.29,>=1.0.0->wandb) (4.0.12)\n",
            "Requirement already satisfied: annotated-types>=0.6.0 in /usr/local/lib/python3.11/dist-packages (from pydantic<3->wandb) (0.7.0)\n",
            "Requirement already satisfied: pydantic-core==2.33.2 in /usr/local/lib/python3.11/dist-packages (from pydantic<3->wandb) (2.33.2)\n",
            "Requirement already satisfied: typing-inspection>=0.4.0 in /usr/local/lib/python3.11/dist-packages (from pydantic<3->wandb) (0.4.1)\n",
            "Requirement already satisfied: charset-normalizer<4,>=2 in /usr/local/lib/python3.11/dist-packages (from requests<3,>=2.0.0->wandb) (3.4.2)\n",
            "Requirement already satisfied: idna<4,>=2.5 in /usr/local/lib/python3.11/dist-packages (from requests<3,>=2.0.0->wandb) (3.10)\n",
            "Requirement already satisfied: urllib3<3,>=1.21.1 in /usr/local/lib/python3.11/dist-packages (from requests<3,>=2.0.0->wandb) (2.4.0)\n",
            "Requirement already satisfied: certifi>=2017.4.17 in /usr/local/lib/python3.11/dist-packages (from requests<3,>=2.0.0->wandb) (2025.4.26)\n",
            "Requirement already satisfied: smmap<6,>=3.0.1 in /usr/local/lib/python3.11/dist-packages (from gitdb<5,>=4.0.1->gitpython!=3.1.29,>=1.0.0->wandb) (5.0.2)\n",
            "Requirement already satisfied: kaggle in /usr/local/lib/python3.11/dist-packages (1.7.4.5)\n",
            "Requirement already satisfied: bleach in /usr/local/lib/python3.11/dist-packages (from kaggle) (6.2.0)\n",
            "Requirement already satisfied: certifi>=14.05.14 in /usr/local/lib/python3.11/dist-packages (from kaggle) (2025.4.26)\n",
            "Requirement already satisfied: charset-normalizer in /usr/local/lib/python3.11/dist-packages (from kaggle) (3.4.2)\n",
            "Requirement already satisfied: idna in /usr/local/lib/python3.11/dist-packages (from kaggle) (3.10)\n",
            "Requirement already satisfied: protobuf in /usr/local/lib/python3.11/dist-packages (from kaggle) (5.29.5)\n",
            "Requirement already satisfied: python-dateutil>=2.5.3 in /usr/local/lib/python3.11/dist-packages (from kaggle) (2.9.0.post0)\n",
            "Requirement already satisfied: python-slugify in /usr/local/lib/python3.11/dist-packages (from kaggle) (8.0.4)\n",
            "Requirement already satisfied: requests in /usr/local/lib/python3.11/dist-packages (from kaggle) (2.32.3)\n",
            "Requirement already satisfied: setuptools>=21.0.0 in /usr/local/lib/python3.11/dist-packages (from kaggle) (75.2.0)\n",
            "Requirement already satisfied: six>=1.10 in /usr/local/lib/python3.11/dist-packages (from kaggle) (1.17.0)\n",
            "Requirement already satisfied: text-unidecode in /usr/local/lib/python3.11/dist-packages (from kaggle) (1.3)\n",
            "Requirement already satisfied: tqdm in /usr/local/lib/python3.11/dist-packages (from kaggle) (4.67.1)\n",
            "Requirement already satisfied: urllib3>=1.15.1 in /usr/local/lib/python3.11/dist-packages (from kaggle) (2.4.0)\n",
            "Requirement already satisfied: webencodings in /usr/local/lib/python3.11/dist-packages (from kaggle) (0.5.1)\n"
          ]
        }
      ]
    },
    {
      "cell_type": "code",
      "execution_count": 2,
      "metadata": {
        "colab": {
          "base_uri": "https://localhost:8080/",
          "height": 90
        },
        "id": "e9dxQlsvFrhb",
        "outputId": "e1daff52-8d0c-4cae-81b8-e51477f22de9"
      },
      "outputs": [
        {
          "output_type": "display_data",
          "data": {
            "text/plain": [
              "<IPython.core.display.HTML object>"
            ],
            "text/html": [
              "\n",
              "     <input type=\"file\" id=\"files-f3cdbb2b-3a3f-45a7-8c8f-f21b02a8ac8b\" name=\"files[]\" multiple disabled\n",
              "        style=\"border:none\" />\n",
              "     <output id=\"result-f3cdbb2b-3a3f-45a7-8c8f-f21b02a8ac8b\">\n",
              "      Upload widget is only available when the cell has been executed in the\n",
              "      current browser session. Please rerun this cell to enable.\n",
              "      </output>\n",
              "      <script>// Copyright 2017 Google LLC\n",
              "//\n",
              "// Licensed under the Apache License, Version 2.0 (the \"License\");\n",
              "// you may not use this file except in compliance with the License.\n",
              "// You may obtain a copy of the License at\n",
              "//\n",
              "//      http://www.apache.org/licenses/LICENSE-2.0\n",
              "//\n",
              "// Unless required by applicable law or agreed to in writing, software\n",
              "// distributed under the License is distributed on an \"AS IS\" BASIS,\n",
              "// WITHOUT WARRANTIES OR CONDITIONS OF ANY KIND, either express or implied.\n",
              "// See the License for the specific language governing permissions and\n",
              "// limitations under the License.\n",
              "\n",
              "/**\n",
              " * @fileoverview Helpers for google.colab Python module.\n",
              " */\n",
              "(function(scope) {\n",
              "function span(text, styleAttributes = {}) {\n",
              "  const element = document.createElement('span');\n",
              "  element.textContent = text;\n",
              "  for (const key of Object.keys(styleAttributes)) {\n",
              "    element.style[key] = styleAttributes[key];\n",
              "  }\n",
              "  return element;\n",
              "}\n",
              "\n",
              "// Max number of bytes which will be uploaded at a time.\n",
              "const MAX_PAYLOAD_SIZE = 100 * 1024;\n",
              "\n",
              "function _uploadFiles(inputId, outputId) {\n",
              "  const steps = uploadFilesStep(inputId, outputId);\n",
              "  const outputElement = document.getElementById(outputId);\n",
              "  // Cache steps on the outputElement to make it available for the next call\n",
              "  // to uploadFilesContinue from Python.\n",
              "  outputElement.steps = steps;\n",
              "\n",
              "  return _uploadFilesContinue(outputId);\n",
              "}\n",
              "\n",
              "// This is roughly an async generator (not supported in the browser yet),\n",
              "// where there are multiple asynchronous steps and the Python side is going\n",
              "// to poll for completion of each step.\n",
              "// This uses a Promise to block the python side on completion of each step,\n",
              "// then passes the result of the previous step as the input to the next step.\n",
              "function _uploadFilesContinue(outputId) {\n",
              "  const outputElement = document.getElementById(outputId);\n",
              "  const steps = outputElement.steps;\n",
              "\n",
              "  const next = steps.next(outputElement.lastPromiseValue);\n",
              "  return Promise.resolve(next.value.promise).then((value) => {\n",
              "    // Cache the last promise value to make it available to the next\n",
              "    // step of the generator.\n",
              "    outputElement.lastPromiseValue = value;\n",
              "    return next.value.response;\n",
              "  });\n",
              "}\n",
              "\n",
              "/**\n",
              " * Generator function which is called between each async step of the upload\n",
              " * process.\n",
              " * @param {string} inputId Element ID of the input file picker element.\n",
              " * @param {string} outputId Element ID of the output display.\n",
              " * @return {!Iterable<!Object>} Iterable of next steps.\n",
              " */\n",
              "function* uploadFilesStep(inputId, outputId) {\n",
              "  const inputElement = document.getElementById(inputId);\n",
              "  inputElement.disabled = false;\n",
              "\n",
              "  const outputElement = document.getElementById(outputId);\n",
              "  outputElement.innerHTML = '';\n",
              "\n",
              "  const pickedPromise = new Promise((resolve) => {\n",
              "    inputElement.addEventListener('change', (e) => {\n",
              "      resolve(e.target.files);\n",
              "    });\n",
              "  });\n",
              "\n",
              "  const cancel = document.createElement('button');\n",
              "  inputElement.parentElement.appendChild(cancel);\n",
              "  cancel.textContent = 'Cancel upload';\n",
              "  const cancelPromise = new Promise((resolve) => {\n",
              "    cancel.onclick = () => {\n",
              "      resolve(null);\n",
              "    };\n",
              "  });\n",
              "\n",
              "  // Wait for the user to pick the files.\n",
              "  const files = yield {\n",
              "    promise: Promise.race([pickedPromise, cancelPromise]),\n",
              "    response: {\n",
              "      action: 'starting',\n",
              "    }\n",
              "  };\n",
              "\n",
              "  cancel.remove();\n",
              "\n",
              "  // Disable the input element since further picks are not allowed.\n",
              "  inputElement.disabled = true;\n",
              "\n",
              "  if (!files) {\n",
              "    return {\n",
              "      response: {\n",
              "        action: 'complete',\n",
              "      }\n",
              "    };\n",
              "  }\n",
              "\n",
              "  for (const file of files) {\n",
              "    const li = document.createElement('li');\n",
              "    li.append(span(file.name, {fontWeight: 'bold'}));\n",
              "    li.append(span(\n",
              "        `(${file.type || 'n/a'}) - ${file.size} bytes, ` +\n",
              "        `last modified: ${\n",
              "            file.lastModifiedDate ? file.lastModifiedDate.toLocaleDateString() :\n",
              "                                    'n/a'} - `));\n",
              "    const percent = span('0% done');\n",
              "    li.appendChild(percent);\n",
              "\n",
              "    outputElement.appendChild(li);\n",
              "\n",
              "    const fileDataPromise = new Promise((resolve) => {\n",
              "      const reader = new FileReader();\n",
              "      reader.onload = (e) => {\n",
              "        resolve(e.target.result);\n",
              "      };\n",
              "      reader.readAsArrayBuffer(file);\n",
              "    });\n",
              "    // Wait for the data to be ready.\n",
              "    let fileData = yield {\n",
              "      promise: fileDataPromise,\n",
              "      response: {\n",
              "        action: 'continue',\n",
              "      }\n",
              "    };\n",
              "\n",
              "    // Use a chunked sending to avoid message size limits. See b/62115660.\n",
              "    let position = 0;\n",
              "    do {\n",
              "      const length = Math.min(fileData.byteLength - position, MAX_PAYLOAD_SIZE);\n",
              "      const chunk = new Uint8Array(fileData, position, length);\n",
              "      position += length;\n",
              "\n",
              "      const base64 = btoa(String.fromCharCode.apply(null, chunk));\n",
              "      yield {\n",
              "        response: {\n",
              "          action: 'append',\n",
              "          file: file.name,\n",
              "          data: base64,\n",
              "        },\n",
              "      };\n",
              "\n",
              "      let percentDone = fileData.byteLength === 0 ?\n",
              "          100 :\n",
              "          Math.round((position / fileData.byteLength) * 100);\n",
              "      percent.textContent = `${percentDone}% done`;\n",
              "\n",
              "    } while (position < fileData.byteLength);\n",
              "  }\n",
              "\n",
              "  // All done.\n",
              "  yield {\n",
              "    response: {\n",
              "      action: 'complete',\n",
              "    }\n",
              "  };\n",
              "}\n",
              "\n",
              "scope.google = scope.google || {};\n",
              "scope.google.colab = scope.google.colab || {};\n",
              "scope.google.colab._files = {\n",
              "  _uploadFiles,\n",
              "  _uploadFilesContinue,\n",
              "};\n",
              "})(self);\n",
              "</script> "
            ]
          },
          "metadata": {}
        },
        {
          "output_type": "stream",
          "name": "stdout",
          "text": [
            "Saving kaggle.json to kaggle.json\n"
          ]
        },
        {
          "output_type": "execute_result",
          "data": {
            "text/plain": [
              "{'kaggle.json': b'{\"username\":\"lizikutateladze\",\"key\":\"5204a8bec832737cfd25ecd92068b1b4\"}'}"
            ]
          },
          "metadata": {},
          "execution_count": 2
        }
      ],
      "source": [
        "from google.colab import files\n",
        "files.upload()\n"
      ]
    },
    {
      "cell_type": "code",
      "source": [
        "!pip install -q kaggle"
      ],
      "metadata": {
        "id": "-8UbpAvGGO8n"
      },
      "execution_count": 3,
      "outputs": []
    },
    {
      "cell_type": "code",
      "source": [
        "\n",
        "!mkdir -p ~/.kaggle\n",
        "!cp kaggle.json ~/.kaggle/\n",
        "!chmod 600 ~/.kaggle/kaggle.json"
      ],
      "metadata": {
        "id": "eZ5fYlTqGXhD"
      },
      "execution_count": 4,
      "outputs": []
    },
    {
      "cell_type": "code",
      "source": [
        "! kaggle competitions download -c challenges-in-representation-learning-facial-expression-recognition-challenge"
      ],
      "metadata": {
        "colab": {
          "base_uri": "https://localhost:8080/"
        },
        "id": "9QMQ5Q_BG7xn",
        "outputId": "e7a42c03-4292-43fc-eac5-b9b004625ed5"
      },
      "execution_count": 5,
      "outputs": [
        {
          "output_type": "stream",
          "name": "stdout",
          "text": [
            "Downloading challenges-in-representation-learning-facial-expression-recognition-challenge.zip to /content\n",
            " 98% 280M/285M [00:00<00:00, 402MB/s]\n",
            "100% 285M/285M [00:00<00:00, 411MB/s]\n"
          ]
        }
      ]
    },
    {
      "cell_type": "code",
      "source": [
        "!unzip -q challenges-in-representation-learning-facial-expression-recognition-challenge.zip -d data/"
      ],
      "metadata": {
        "id": "P2LM1tmnIYm1"
      },
      "execution_count": 6,
      "outputs": []
    },
    {
      "cell_type": "code",
      "source": [
        "!ls data"
      ],
      "metadata": {
        "colab": {
          "base_uri": "https://localhost:8080/"
        },
        "id": "Jdh6ZpRCIiNG",
        "outputId": "b5fdaf97-f8f4-45d7-d099-2f13a1f78f66"
      },
      "execution_count": 7,
      "outputs": [
        {
          "output_type": "stream",
          "name": "stdout",
          "text": [
            "example_submission.csv\tfer2013.tar.gz\ticml_face_data.csv  test.csv  train.csv\n"
          ]
        }
      ]
    },
    {
      "cell_type": "code",
      "source": [
        "!pip install -q wandb\n",
        "import wandb\n",
        "wandb.login()"
      ],
      "metadata": {
        "colab": {
          "base_uri": "https://localhost:8080/",
          "height": 211
        },
        "id": "aB06l64bImpe",
        "outputId": "395e3f90-29a0-425b-a1e4-d3e0294eba1f"
      },
      "execution_count": 8,
      "outputs": [
        {
          "output_type": "display_data",
          "data": {
            "text/plain": [
              "<IPython.core.display.Javascript object>"
            ],
            "application/javascript": [
              "\n",
              "        window._wandbApiKey = new Promise((resolve, reject) => {\n",
              "            function loadScript(url) {\n",
              "            return new Promise(function(resolve, reject) {\n",
              "                let newScript = document.createElement(\"script\");\n",
              "                newScript.onerror = reject;\n",
              "                newScript.onload = resolve;\n",
              "                document.body.appendChild(newScript);\n",
              "                newScript.src = url;\n",
              "            });\n",
              "            }\n",
              "            loadScript(\"https://cdn.jsdelivr.net/npm/postmate/build/postmate.min.js\").then(() => {\n",
              "            const iframe = document.createElement('iframe')\n",
              "            iframe.style.cssText = \"width:0;height:0;border:none\"\n",
              "            document.body.appendChild(iframe)\n",
              "            const handshake = new Postmate({\n",
              "                container: iframe,\n",
              "                url: 'https://wandb.ai/authorize'\n",
              "            });\n",
              "            const timeout = setTimeout(() => reject(\"Couldn't auto authenticate\"), 5000)\n",
              "            handshake.then(function(child) {\n",
              "                child.on('authorize', data => {\n",
              "                    clearTimeout(timeout)\n",
              "                    resolve(data)\n",
              "                });\n",
              "            });\n",
              "            })\n",
              "        });\n",
              "    "
            ]
          },
          "metadata": {}
        },
        {
          "output_type": "stream",
          "name": "stderr",
          "text": [
            "\u001b[34m\u001b[1mwandb\u001b[0m: Logging into wandb.ai. (Learn how to deploy a W&B server locally: https://wandb.me/wandb-server)\n",
            "\u001b[34m\u001b[1mwandb\u001b[0m: You can find your API key in your browser here: https://wandb.ai/authorize\n",
            "wandb: Paste an API key from your profile and hit enter:"
          ]
        },
        {
          "name": "stdout",
          "output_type": "stream",
          "text": [
            " ··········\n"
          ]
        },
        {
          "output_type": "stream",
          "name": "stderr",
          "text": [
            "\u001b[34m\u001b[1mwandb\u001b[0m: \u001b[33mWARNING\u001b[0m If you're specifying your api key in code, ensure this code is not shared publicly.\n",
            "\u001b[34m\u001b[1mwandb\u001b[0m: \u001b[33mWARNING\u001b[0m Consider setting the WANDB_API_KEY environment variable, or running `wandb login` from the command line.\n",
            "\u001b[34m\u001b[1mwandb\u001b[0m: No netrc file found, creating one.\n",
            "\u001b[34m\u001b[1mwandb\u001b[0m: Appending key for api.wandb.ai to your netrc file: /root/.netrc\n",
            "\u001b[34m\u001b[1mwandb\u001b[0m: Currently logged in as: \u001b[33mlkuta22\u001b[0m (\u001b[33mlkuta22-free-university-of-tbilisi-\u001b[0m) to \u001b[32mhttps://api.wandb.ai\u001b[0m. Use \u001b[1m`wandb login --relogin`\u001b[0m to force relogin\n"
          ]
        },
        {
          "output_type": "execute_result",
          "data": {
            "text/plain": [
              "True"
            ]
          },
          "metadata": {},
          "execution_count": 8
        }
      ]
    },
    {
      "cell_type": "code",
      "source": [
        "import pandas as pd\n"
      ],
      "metadata": {
        "id": "2PDboptDI8EB"
      },
      "execution_count": 9,
      "outputs": []
    },
    {
      "cell_type": "code",
      "source": [
        "train_df_t = pd.read_csv('/content/data/icml_face_data.csv')"
      ],
      "metadata": {
        "id": "gwOWqWmaOO0P"
      },
      "execution_count": 10,
      "outputs": []
    },
    {
      "cell_type": "code",
      "source": [
        "train_df_t.shape"
      ],
      "metadata": {
        "colab": {
          "base_uri": "https://localhost:8080/"
        },
        "id": "vB3RK8SjOWOc",
        "outputId": "65cf3b82-2547-4fb2-efe1-f84a0de099b7"
      },
      "execution_count": 11,
      "outputs": [
        {
          "output_type": "execute_result",
          "data": {
            "text/plain": [
              "(35887, 3)"
            ]
          },
          "metadata": {},
          "execution_count": 11
        }
      ]
    },
    {
      "cell_type": "code",
      "source": [
        "\n",
        "train_df = train_df_t[train_df_t[' Usage'] == 'Training']\n",
        "val_df= train_df_t[train_df_t[' Usage'] == 'PrivateTest']\n",
        "test_df = train_df_t[train_df_t[' Usage'] == 'PublicTest']"
      ],
      "metadata": {
        "id": "S04lbAkqOedu"
      },
      "execution_count": 12,
      "outputs": []
    },
    {
      "cell_type": "code",
      "source": [
        "train_df.shape"
      ],
      "metadata": {
        "colab": {
          "base_uri": "https://localhost:8080/"
        },
        "id": "lcsqwYTASm-d",
        "outputId": "05cf8294-a7bc-46bd-fe22-1cbdf5dbb2c1"
      },
      "execution_count": 13,
      "outputs": [
        {
          "output_type": "execute_result",
          "data": {
            "text/plain": [
              "(28709, 3)"
            ]
          },
          "metadata": {},
          "execution_count": 13
        }
      ]
    },
    {
      "cell_type": "code",
      "source": [
        "val_df.shape"
      ],
      "metadata": {
        "colab": {
          "base_uri": "https://localhost:8080/"
        },
        "id": "92o_WEI_SyRc",
        "outputId": "9d18fd05-d679-463a-e999-ca347dc72d4c"
      },
      "execution_count": 14,
      "outputs": [
        {
          "output_type": "execute_result",
          "data": {
            "text/plain": [
              "(3589, 3)"
            ]
          },
          "metadata": {},
          "execution_count": 14
        }
      ]
    },
    {
      "cell_type": "code",
      "source": [
        "test_df.shape"
      ],
      "metadata": {
        "colab": {
          "base_uri": "https://localhost:8080/"
        },
        "id": "GcJSKo4pTNss",
        "outputId": "18b117e0-11fe-48fe-ac9b-ed690f30517b"
      },
      "execution_count": 15,
      "outputs": [
        {
          "output_type": "execute_result",
          "data": {
            "text/plain": [
              "(3589, 3)"
            ]
          },
          "metadata": {},
          "execution_count": 15
        }
      ]
    },
    {
      "cell_type": "code",
      "source": [
        "import torch\n",
        "import torch.nn as nn\n",
        "import torch.optim as optim\n",
        "from torch.utils.data import Dataset, DataLoader\n",
        "from torchvision import transforms\n",
        "import matplotlib.pyplot as plt\n",
        "from PIL import Image\n",
        "import os\n",
        "from tqdm.notebook import tqdm\n",
        "import wandb"
      ],
      "metadata": {
        "id": "rrh6hAB2TPd7"
      },
      "execution_count": 18,
      "outputs": []
    },
    {
      "cell_type": "code",
      "source": [
        "train_df.head()"
      ],
      "metadata": {
        "colab": {
          "base_uri": "https://localhost:8080/",
          "height": 206
        },
        "id": "8bphcIgLWuA6",
        "outputId": "11321010-5a39-4f6b-d4c3-5eb6d016a5a9"
      },
      "execution_count": 19,
      "outputs": [
        {
          "output_type": "execute_result",
          "data": {
            "text/plain": [
              "   emotion     Usage                                             pixels\n",
              "0        0  Training  70 80 82 72 58 58 60 63 54 58 60 48 89 115 121...\n",
              "1        0  Training  151 150 147 155 148 133 111 140 170 174 182 15...\n",
              "2        2  Training  231 212 156 164 174 138 161 173 182 200 106 38...\n",
              "3        4  Training  24 32 36 30 32 23 19 20 30 41 21 22 32 34 21 1...\n",
              "4        6  Training  4 0 0 0 0 0 0 0 0 0 0 0 3 15 23 28 48 50 58 84..."
            ],
            "text/html": [
              "\n",
              "  <div id=\"df-abacce1d-25eb-4101-9d54-90ecaf5be5bd\" class=\"colab-df-container\">\n",
              "    <div>\n",
              "<style scoped>\n",
              "    .dataframe tbody tr th:only-of-type {\n",
              "        vertical-align: middle;\n",
              "    }\n",
              "\n",
              "    .dataframe tbody tr th {\n",
              "        vertical-align: top;\n",
              "    }\n",
              "\n",
              "    .dataframe thead th {\n",
              "        text-align: right;\n",
              "    }\n",
              "</style>\n",
              "<table border=\"1\" class=\"dataframe\">\n",
              "  <thead>\n",
              "    <tr style=\"text-align: right;\">\n",
              "      <th></th>\n",
              "      <th>emotion</th>\n",
              "      <th>Usage</th>\n",
              "      <th>pixels</th>\n",
              "    </tr>\n",
              "  </thead>\n",
              "  <tbody>\n",
              "    <tr>\n",
              "      <th>0</th>\n",
              "      <td>0</td>\n",
              "      <td>Training</td>\n",
              "      <td>70 80 82 72 58 58 60 63 54 58 60 48 89 115 121...</td>\n",
              "    </tr>\n",
              "    <tr>\n",
              "      <th>1</th>\n",
              "      <td>0</td>\n",
              "      <td>Training</td>\n",
              "      <td>151 150 147 155 148 133 111 140 170 174 182 15...</td>\n",
              "    </tr>\n",
              "    <tr>\n",
              "      <th>2</th>\n",
              "      <td>2</td>\n",
              "      <td>Training</td>\n",
              "      <td>231 212 156 164 174 138 161 173 182 200 106 38...</td>\n",
              "    </tr>\n",
              "    <tr>\n",
              "      <th>3</th>\n",
              "      <td>4</td>\n",
              "      <td>Training</td>\n",
              "      <td>24 32 36 30 32 23 19 20 30 41 21 22 32 34 21 1...</td>\n",
              "    </tr>\n",
              "    <tr>\n",
              "      <th>4</th>\n",
              "      <td>6</td>\n",
              "      <td>Training</td>\n",
              "      <td>4 0 0 0 0 0 0 0 0 0 0 0 3 15 23 28 48 50 58 84...</td>\n",
              "    </tr>\n",
              "  </tbody>\n",
              "</table>\n",
              "</div>\n",
              "    <div class=\"colab-df-buttons\">\n",
              "\n",
              "  <div class=\"colab-df-container\">\n",
              "    <button class=\"colab-df-convert\" onclick=\"convertToInteractive('df-abacce1d-25eb-4101-9d54-90ecaf5be5bd')\"\n",
              "            title=\"Convert this dataframe to an interactive table.\"\n",
              "            style=\"display:none;\">\n",
              "\n",
              "  <svg xmlns=\"http://www.w3.org/2000/svg\" height=\"24px\" viewBox=\"0 -960 960 960\">\n",
              "    <path d=\"M120-120v-720h720v720H120Zm60-500h600v-160H180v160Zm220 220h160v-160H400v160Zm0 220h160v-160H400v160ZM180-400h160v-160H180v160Zm440 0h160v-160H620v160ZM180-180h160v-160H180v160Zm440 0h160v-160H620v160Z\"/>\n",
              "  </svg>\n",
              "    </button>\n",
              "\n",
              "  <style>\n",
              "    .colab-df-container {\n",
              "      display:flex;\n",
              "      gap: 12px;\n",
              "    }\n",
              "\n",
              "    .colab-df-convert {\n",
              "      background-color: #E8F0FE;\n",
              "      border: none;\n",
              "      border-radius: 50%;\n",
              "      cursor: pointer;\n",
              "      display: none;\n",
              "      fill: #1967D2;\n",
              "      height: 32px;\n",
              "      padding: 0 0 0 0;\n",
              "      width: 32px;\n",
              "    }\n",
              "\n",
              "    .colab-df-convert:hover {\n",
              "      background-color: #E2EBFA;\n",
              "      box-shadow: 0px 1px 2px rgba(60, 64, 67, 0.3), 0px 1px 3px 1px rgba(60, 64, 67, 0.15);\n",
              "      fill: #174EA6;\n",
              "    }\n",
              "\n",
              "    .colab-df-buttons div {\n",
              "      margin-bottom: 4px;\n",
              "    }\n",
              "\n",
              "    [theme=dark] .colab-df-convert {\n",
              "      background-color: #3B4455;\n",
              "      fill: #D2E3FC;\n",
              "    }\n",
              "\n",
              "    [theme=dark] .colab-df-convert:hover {\n",
              "      background-color: #434B5C;\n",
              "      box-shadow: 0px 1px 3px 1px rgba(0, 0, 0, 0.15);\n",
              "      filter: drop-shadow(0px 1px 2px rgba(0, 0, 0, 0.3));\n",
              "      fill: #FFFFFF;\n",
              "    }\n",
              "  </style>\n",
              "\n",
              "    <script>\n",
              "      const buttonEl =\n",
              "        document.querySelector('#df-abacce1d-25eb-4101-9d54-90ecaf5be5bd button.colab-df-convert');\n",
              "      buttonEl.style.display =\n",
              "        google.colab.kernel.accessAllowed ? 'block' : 'none';\n",
              "\n",
              "      async function convertToInteractive(key) {\n",
              "        const element = document.querySelector('#df-abacce1d-25eb-4101-9d54-90ecaf5be5bd');\n",
              "        const dataTable =\n",
              "          await google.colab.kernel.invokeFunction('convertToInteractive',\n",
              "                                                    [key], {});\n",
              "        if (!dataTable) return;\n",
              "\n",
              "        const docLinkHtml = 'Like what you see? Visit the ' +\n",
              "          '<a target=\"_blank\" href=https://colab.research.google.com/notebooks/data_table.ipynb>data table notebook</a>'\n",
              "          + ' to learn more about interactive tables.';\n",
              "        element.innerHTML = '';\n",
              "        dataTable['output_type'] = 'display_data';\n",
              "        await google.colab.output.renderOutput(dataTable, element);\n",
              "        const docLink = document.createElement('div');\n",
              "        docLink.innerHTML = docLinkHtml;\n",
              "        element.appendChild(docLink);\n",
              "      }\n",
              "    </script>\n",
              "  </div>\n",
              "\n",
              "\n",
              "    <div id=\"df-7430d34e-bade-4640-911b-d2f130270b0d\">\n",
              "      <button class=\"colab-df-quickchart\" onclick=\"quickchart('df-7430d34e-bade-4640-911b-d2f130270b0d')\"\n",
              "                title=\"Suggest charts\"\n",
              "                style=\"display:none;\">\n",
              "\n",
              "<svg xmlns=\"http://www.w3.org/2000/svg\" height=\"24px\"viewBox=\"0 0 24 24\"\n",
              "     width=\"24px\">\n",
              "    <g>\n",
              "        <path d=\"M19 3H5c-1.1 0-2 .9-2 2v14c0 1.1.9 2 2 2h14c1.1 0 2-.9 2-2V5c0-1.1-.9-2-2-2zM9 17H7v-7h2v7zm4 0h-2V7h2v10zm4 0h-2v-4h2v4z\"/>\n",
              "    </g>\n",
              "</svg>\n",
              "      </button>\n",
              "\n",
              "<style>\n",
              "  .colab-df-quickchart {\n",
              "      --bg-color: #E8F0FE;\n",
              "      --fill-color: #1967D2;\n",
              "      --hover-bg-color: #E2EBFA;\n",
              "      --hover-fill-color: #174EA6;\n",
              "      --disabled-fill-color: #AAA;\n",
              "      --disabled-bg-color: #DDD;\n",
              "  }\n",
              "\n",
              "  [theme=dark] .colab-df-quickchart {\n",
              "      --bg-color: #3B4455;\n",
              "      --fill-color: #D2E3FC;\n",
              "      --hover-bg-color: #434B5C;\n",
              "      --hover-fill-color: #FFFFFF;\n",
              "      --disabled-bg-color: #3B4455;\n",
              "      --disabled-fill-color: #666;\n",
              "  }\n",
              "\n",
              "  .colab-df-quickchart {\n",
              "    background-color: var(--bg-color);\n",
              "    border: none;\n",
              "    border-radius: 50%;\n",
              "    cursor: pointer;\n",
              "    display: none;\n",
              "    fill: var(--fill-color);\n",
              "    height: 32px;\n",
              "    padding: 0;\n",
              "    width: 32px;\n",
              "  }\n",
              "\n",
              "  .colab-df-quickchart:hover {\n",
              "    background-color: var(--hover-bg-color);\n",
              "    box-shadow: 0 1px 2px rgba(60, 64, 67, 0.3), 0 1px 3px 1px rgba(60, 64, 67, 0.15);\n",
              "    fill: var(--button-hover-fill-color);\n",
              "  }\n",
              "\n",
              "  .colab-df-quickchart-complete:disabled,\n",
              "  .colab-df-quickchart-complete:disabled:hover {\n",
              "    background-color: var(--disabled-bg-color);\n",
              "    fill: var(--disabled-fill-color);\n",
              "    box-shadow: none;\n",
              "  }\n",
              "\n",
              "  .colab-df-spinner {\n",
              "    border: 2px solid var(--fill-color);\n",
              "    border-color: transparent;\n",
              "    border-bottom-color: var(--fill-color);\n",
              "    animation:\n",
              "      spin 1s steps(1) infinite;\n",
              "  }\n",
              "\n",
              "  @keyframes spin {\n",
              "    0% {\n",
              "      border-color: transparent;\n",
              "      border-bottom-color: var(--fill-color);\n",
              "      border-left-color: var(--fill-color);\n",
              "    }\n",
              "    20% {\n",
              "      border-color: transparent;\n",
              "      border-left-color: var(--fill-color);\n",
              "      border-top-color: var(--fill-color);\n",
              "    }\n",
              "    30% {\n",
              "      border-color: transparent;\n",
              "      border-left-color: var(--fill-color);\n",
              "      border-top-color: var(--fill-color);\n",
              "      border-right-color: var(--fill-color);\n",
              "    }\n",
              "    40% {\n",
              "      border-color: transparent;\n",
              "      border-right-color: var(--fill-color);\n",
              "      border-top-color: var(--fill-color);\n",
              "    }\n",
              "    60% {\n",
              "      border-color: transparent;\n",
              "      border-right-color: var(--fill-color);\n",
              "    }\n",
              "    80% {\n",
              "      border-color: transparent;\n",
              "      border-right-color: var(--fill-color);\n",
              "      border-bottom-color: var(--fill-color);\n",
              "    }\n",
              "    90% {\n",
              "      border-color: transparent;\n",
              "      border-bottom-color: var(--fill-color);\n",
              "    }\n",
              "  }\n",
              "</style>\n",
              "\n",
              "      <script>\n",
              "        async function quickchart(key) {\n",
              "          const quickchartButtonEl =\n",
              "            document.querySelector('#' + key + ' button');\n",
              "          quickchartButtonEl.disabled = true;  // To prevent multiple clicks.\n",
              "          quickchartButtonEl.classList.add('colab-df-spinner');\n",
              "          try {\n",
              "            const charts = await google.colab.kernel.invokeFunction(\n",
              "                'suggestCharts', [key], {});\n",
              "          } catch (error) {\n",
              "            console.error('Error during call to suggestCharts:', error);\n",
              "          }\n",
              "          quickchartButtonEl.classList.remove('colab-df-spinner');\n",
              "          quickchartButtonEl.classList.add('colab-df-quickchart-complete');\n",
              "        }\n",
              "        (() => {\n",
              "          let quickchartButtonEl =\n",
              "            document.querySelector('#df-7430d34e-bade-4640-911b-d2f130270b0d button');\n",
              "          quickchartButtonEl.style.display =\n",
              "            google.colab.kernel.accessAllowed ? 'block' : 'none';\n",
              "        })();\n",
              "      </script>\n",
              "    </div>\n",
              "\n",
              "    </div>\n",
              "  </div>\n"
            ],
            "application/vnd.google.colaboratory.intrinsic+json": {
              "type": "dataframe",
              "variable_name": "train_df",
              "summary": "{\n  \"name\": \"train_df\",\n  \"rows\": 28709,\n  \"fields\": [\n    {\n      \"column\": \"emotion\",\n      \"properties\": {\n        \"dtype\": \"number\",\n        \"std\": 1,\n        \"min\": 0,\n        \"max\": 6,\n        \"num_unique_values\": 7,\n        \"samples\": [\n          0,\n          2,\n          5\n        ],\n        \"semantic_type\": \"\",\n        \"description\": \"\"\n      }\n    },\n    {\n      \"column\": \" Usage\",\n      \"properties\": {\n        \"dtype\": \"category\",\n        \"num_unique_values\": 1,\n        \"samples\": [\n          \"Training\"\n        ],\n        \"semantic_type\": \"\",\n        \"description\": \"\"\n      }\n    },\n    {\n      \"column\": \" pixels\",\n      \"properties\": {\n        \"dtype\": \"string\",\n        \"num_unique_values\": 27473,\n        \"samples\": [\n          \"165 165 164 140 83 23 18 19 14 17 10 20 32 28 24 40 62 75 78 85 53 41 60 70 77 96 102 112 103 127 156 165 177 163 168 142 130 119 70 95 105 64 39 41 54 51 33 28 164 163 157 138 72 21 18 15 13 12 15 21 41 41 37 59 79 86 92 93 57 40 63 80 104 122 106 107 110 138 164 183 179 173 172 141 131 127 85 52 67 72 64 60 50 56 42 28 167 157 163 133 36 19 13 12 13 11 15 25 50 51 58 80 97 105 96 92 62 40 69 110 131 133 109 98 119 151 179 188 181 173 164 145 133 127 95 55 55 67 67 67 54 61 52 37 167 157 164 109 20 17 14 14 14 13 18 23 44 59 80 98 110 104 84 90 80 61 97 136 143 142 109 98 128 157 180 183 178 171 159 144 144 130 97 66 55 61 80 65 57 61 57 42 162 162 155 68 12 15 14 15 13 13 20 22 46 65 96 113 101 91 88 95 96 98 125 150 151 144 108 107 141 168 182 184 179 176 160 141 141 132 108 83 58 54 77 65 47 52 56 44 157 168 144 41 11 12 15 16 11 13 14 29 61 69 112 116 91 98 109 114 121 127 144 160 163 156 116 112 147 179 183 186 176 171 164 148 146 137 114 98 67 54 68 57 37 34 41 52 164 171 105 14 15 11 18 18 13 16 16 41 64 81 128 101 101 115 116 126 145 149 157 166 169 168 135 122 148 177 179 187 177 167 164 155 147 138 123 109 77 51 51 47 38 20 22 56 159 173 70 8 13 10 22 23 13 14 19 58 65 119 125 115 129 121 129 141 150 159 164 168 180 178 156 145 158 174 176 180 179 168 161 160 150 142 131 117 86 47 46 37 34 19 17 57 160 161 51 12 10 16 30 26 14 11 43 71 108 130 116 132 133 130 136 151 156 162 171 175 182 186 181 174 174 181 169 180 183 168 161 160 152 143 134 123 91 47 43 37 37 26 20 33 161 141 43 4 11 21 40 21 14 21 59 93 110 95 104 116 122 133 142 156 162 168 175 180 186 191 189 185 185 188 177 173 174 168 160 156 154 150 136 128 104 52 22 40 49 39 30 18 172 121 30 14 10 21 31 24 9 41 83 86 81 85 86 78 91 108 127 145 164 172 173 182 195 199 194 188 187 187 191 179 172 171 162 153 151 151 141 128 110 60 22 16 36 47 33 17 151 52 34 18 14 22 23 15 25 82 103 96 105 104 98 93 81 85 98 113 150 171 170 179 191 194 196 192 192 199 194 183 176 168 161 159 153 148 147 135 119 67 24 14 18 27 30 26 47 20 21 12 17 20 23 11 71 111 112 107 120 128 127 135 125 98 95 102 126 153 162 167 175 186 189 187 191 197 193 188 182 170 161 159 158 156 156 149 134 71 23 17 15 18 24 21 27 20 15 14 17 19 15 43 106 120 109 111 119 133 139 142 148 139 128 117 110 128 146 157 166 177 179 175 172 172 178 182 178 171 155 137 139 143 146 156 149 87 25 18 13 15 27 32 49 35 13 14 16 18 19 90 126 120 106 117 104 89 85 101 130 142 141 133 126 128 145 154 161 171 173 164 156 150 147 144 137 136 125 104 96 101 111 124 141 109 31 15 16 13 18 28 23 17 12 14 19 10 51 115 128 127 100 75 50 57 88 37 62 102 124 137 129 132 144 153 161 170 169 159 149 140 132 122 120 108 93 92 95 98 103 104 117 105 48 22 14 13 15 19 14 14 16 14 11 20 86 120 131 139 113 93 89 108 126 26 51 55 50 127 132 126 137 151 167 174 168 158 145 140 141 140 136 132 133 138 137 128 118 118 110 95 63 33 15 14 18 30 57 28 10 16 12 46 104 121 140 145 144 120 123 136 125 97 62 35 78 103 128 126 133 144 163 174 169 156 149 146 148 148 146 153 166 159 148 146 139 130 126 115 76 43 22 13 11 19 52 17 14 19 19 69 115 124 141 149 155 145 127 128 142 148 158 137 126 86 129 126 129 149 170 175 162 154 141 137 132 118 109 102 112 128 139 137 133 131 124 116 98 64 34 14 15 16 18 9 21 25 33 86 110 126 142 144 153 156 144 136 137 135 132 133 133 120 144 126 129 153 174 174 154 142 121 123 100 95 24 70 76 43 75 115 129 122 123 118 107 88 66 41 14 16 26 13 15 33 45 94 108 127 141 149 155 161 161 151 151 153 142 141 140 145 141 126 135 158 174 165 147 127 140 109 90 127 43 38 38 54 74 55 94 123 121 122 114 101 90 67 21 18 24 11 22 35 58 96 112 128 137 150 160 165 167 163 164 168 164 163 156 154 136 130 145 164 171 157 139 137 156 117 122 133 119 99 96 123 125 79 72 95 112 121 123 114 102 85 36 15 23 16 22 41 74 94 113 127 138 153 158 162 168 172 172 170 171 166 154 144 138 137 153 170 169 154 142 144 156 150 149 137 140 149 151 136 133 125 117 108 114 130 132 123 106 96 55 15 31 21 17 42 80 92 113 130 144 156 160 171 177 173 169 167 167 154 146 145 140 143 157 168 168 155 151 151 159 162 157 156 143 135 132 136 135 129 138 144 138 139 139 128 107 99 67 15 28 19 18 38 82 91 112 132 145 157 162 173 175 171 169 165 157 151 143 144 140 144 164 170 165 155 158 154 159 172 167 165 170 166 159 156 152 150 149 150 146 143 139 129 111 97 70 23 23 16 13 29 83 91 107 130 144 156 162 167 167 167 165 159 153 145 139 139 136 146 167 168 158 151 158 156 160 176 180 174 173 176 174 169 162 159 160 156 149 145 137 125 109 92 65 28 18 15 14 30 90 91 103 125 139 149 153 155 155 153 149 140 130 122 124 130 134 150 164 159 155 151 154 157 159 172 179 174 172 174 173 172 169 167 163 157 151 147 137 124 102 90 55 22 18 16 13 29 89 91 99 122 132 139 140 139 135 131 132 129 126 130 130 132 143 159 165 152 148 143 143 155 167 175 179 179 175 172 171 171 172 168 161 154 149 146 135 122 96 86 55 31 17 18 21 50 101 92 93 111 122 130 128 126 121 121 127 121 117 141 140 130 150 179 185 162 147 136 133 140 161 178 182 182 182 178 176 176 174 167 156 150 143 141 129 113 90 77 62 53 14 29 78 110 104 107 91 97 112 120 118 118 130 143 140 118 94 122 136 124 137 158 175 158 145 141 141 134 142 158 174 183 182 182 180 178 174 166 155 150 139 132 126 105 83 68 67 90 26 74 134 104 102 120 114 108 112 117 119 127 140 147 146 138 95 57 66 85 109 121 133 135 141 146 148 142 127 130 145 167 177 179 179 176 168 161 152 147 135 128 119 96 78 55 101 113 53 122 104 64 112 126 132 125 125 129 135 134 132 135 137 135 129 126 101 73 74 84 85 90 114 136 141 125 128 142 123 138 163 169 169 163 159 155 147 141 129 121 111 91 68 75 131 97 128 123 39 54 110 126 137 136 134 138 135 129 124 128 134 134 139 143 148 156 134 103 97 87 66 76 94 115 145 148 130 116 135 152 155 151 150 148 138 131 119 111 103 84 61 109 119 127 119 58 10 62 110 125 136 144 139 140 140 135 127 119 126 137 142 142 153 174 174 155 161 177 149 134 134 151 161 158 159 133 111 132 144 141 140 139 130 121 111 103 97 76 72 99 108 125 56 19 23 53 104 128 135 145 138 144 148 111 75 57 68 79 93 100 120 155 166 167 166 161 158 153 157 153 155 154 155 149 123 106 122 136 129 130 123 113 100 106 102 72 79 108 124 100 31 19 19 48 100 126 138 144 130 140 144 105 44 49 47 53 62 62 67 92 131 154 161 159 146 158 149 146 138 140 151 141 129 116 110 117 119 118 103 96 107 118 100 79 114 128 132 67 23 23 13 30 86 122 141 148 133 140 140 135 102 105 128 123 127 98 95 94 92 88 86 88 102 121 135 144 145 142 138 135 130 128 116 111 114 109 106 113 128 126 97 89 123 100 67 20 19 15 16 8 66 116 134 147 137 137 135 136 108 103 152 187 169 150 178 197 163 162 109 96 73 59 71 83 102 120 126 128 136 132 127 126 124 122 125 133 134 130 81 30 36 70 23 7 22 12 22 13 47 104 128 143 137 138 139 137 102 93 103 160 179 181 215 223 198 223 177 196 134 126 85 60 55 55 44 117 151 136 139 140 138 140 138 136 135 122 47 3 7 74 34 28 33 15 20 20 23 82 116 135 133 141 141 136 107 75 86 100 116 138 190 206 212 213 200 212 183 198 165 159 139 103 95 130 142 146 150 149 143 139 142 142 137 95 19 4 20 58 23 28 44 12 13 15 13 58 103 127 132 134 138 137 120 84 72 86 99 104 121 131 141 144 146 144 151 137 129 116 104 119 141 145 146 149 152 150 141 145 148 141 128 56 5 7 25 49 25 9 68 51 33 26 20 32 88 117 130 131 133 132 126 108 87 74 86 98 125 136 129 164 144 100 89 83 76 84 112 137 145 146 151 144 147 143 142 151 147 135 95 18 11 10 35 93 42 16 94 84 63 46 27 19 60 105 124 127 131 126 124 119 112 108 94 86 105 125 122 136 119 88 84 88 95 118 138 152 152 148 142 143 146 145 146 146 138 114 46 6 17 10 28 76 23 21 100 90 80 62 34 15 30 88 117 120 126 126 124 118 116 125 124 116 102 94 98 93 102 107 115 115 122 133 143 147 149 142 138 145 139 143 147 137 121 74 8 13 17 25 64 56 28 9 64 65 65 50 31 25 13 53 100 117 125 127 129 125 122 124 127 135 133 130 130 131 130 126 126 124 134 141 144 140 143 139 139 136 136 141 135 116 87 38 7 12 14 19 73 77 26 8 52 19 23 38 35 18 12 20 71 108 123 131 134 127 135 136 143 144 144 142 138 135 130 129 127 128 136 138 139 139 139 138 133 136 136 131 114 84 59 21 9 12 14 10 23 25 9 14 103 55 29 23 21 17 12 9 33 83 113 124 131 133 140 139 145 156 164 160 155 150 142 136 133 133 138 138 136 138 137 132 132 130 125 109 78 61 56 12 6 11 14 12 9 7 13 12 98 44 21 21 16 16 15 13 13 50 98 119 126 136 141 148 155 161 166 164 159 156 149 142 140 140 140 138 136 135 134 129 130 123 105 74 55 66 53 6 10 10 12 11 8 12 12 9\"\n        ],\n        \"semantic_type\": \"\",\n        \"description\": \"\"\n      }\n    }\n  ]\n}"
            }
          },
          "metadata": {},
          "execution_count": 19
        }
      ]
    },
    {
      "cell_type": "code",
      "source": [
        "\n",
        "import matplotlib.pyplot as plt\n",
        "import wandb\n",
        "\n",
        "class FacialExpressionDataset(Dataset):\n",
        "    \"\"\"Custom Dataset for loading facial expression images\"\"\"\n",
        "\n",
        "    def __init__(self, df, transform=None):\n",
        "        self.df = df\n",
        "        self.transform = transform\n",
        "\n",
        "    def __len__(self):\n",
        "        return len(self.df)\n",
        "\n",
        "    def __getitem__(self, idx):\n",
        "        pixels = self.df.iloc[idx][' pixels']\n",
        "        emotion = self.df.iloc[idx]['emotion']\n",
        "\n",
        "        pixels = np.array(pixels.split(), dtype='uint8')\n",
        "        pixels = pixels.reshape(48, 48)\n",
        "\n",
        "        image = Image.fromarray(pixels)\n",
        "\n",
        "        if self.transform:\n",
        "            image = self.transform(image)\n",
        "\n",
        "        return image, emotion\n",
        "\n",
        "data_transforms = transforms.Compose([\n",
        "    transforms.ToTensor(),\n",
        "    transforms.Normalize(mean=[0.5], std=[0.5])\n",
        "])\n",
        "\n",
        "train_dataset = FacialExpressionDataset(train_df, transform=data_transforms)\n",
        "val_dataset = FacialExpressionDataset(val_df, transform=data_transforms)\n",
        "test_dataset = FacialExpressionDataset(test_df, transform=data_transforms)\n",
        "\n",
        "batch_size = 64\n",
        "train_loader = DataLoader(train_dataset, batch_size=batch_size, shuffle=True)\n",
        "val_loader = DataLoader(val_dataset, batch_size=batch_size, shuffle=False)\n",
        "test_loader = DataLoader(test_dataset, batch_size=batch_size, shuffle=False)\n",
        "\n",
        "def show_sample_images(loader):\n",
        "    images, labels = next(iter(loader))\n",
        "    fig, axes = plt.subplots(1, 5, figsize=(15, 3))\n",
        "    for i in range(5):\n",
        "        img = images[i].numpy().squeeze()\n",
        "        axes[i].imshow(img, cmap='gray')\n",
        "        axes[i].set_title(f'Label: {labels[i].item()}')\n",
        "        axes[i].axis('off')\n",
        "    plt.show()\n",
        "\n",
        "show_sample_images(train_loader)"
      ],
      "metadata": {
        "colab": {
          "base_uri": "https://localhost:8080/",
          "height": 192
        },
        "id": "FYfA_M__imJl",
        "outputId": "b72f6843-b3bc-4e96-cfb8-bfe94d712164"
      },
      "execution_count": 21,
      "outputs": [
        {
          "output_type": "display_data",
          "data": {
            "text/plain": [
              "<Figure size 1500x300 with 5 Axes>"
            ],
            "image/png": "[encoded data removed]"
          },
          "metadata": {}
        }
      ]
    },
    {
      "cell_type": "code",
      "source": [
        "import torch.nn as nn\n",
        "import torch.nn.functional as F\n",
        "\n",
        "class FacialExpressionCNN(nn.Module):\n",
        "    def __init__(self, num_classes=7):\n",
        "        super(FacialExpressionCNN, self).__init__()\n",
        "\n",
        "        self.conv1 = nn.Conv2d(1, 64, kernel_size=3, padding=1)\n",
        "        self.bn1 = nn.BatchNorm2d(64)\n",
        "\n",
        "        self.conv2 = nn.Conv2d(64, 128, kernel_size=3, padding=1)\n",
        "        self.bn2 = nn.BatchNorm2d(128)\n",
        "\n",
        "        self.conv3 = nn.Conv2d(128, 256, kernel_size=3, padding=1)\n",
        "        self.bn3 = nn.BatchNorm2d(256)\n",
        "\n",
        "        self.conv4 = nn.Conv2d(256, 512, kernel_size=3, padding=1)\n",
        "        self.bn4 = nn.BatchNorm2d(512)\n",
        "\n",
        "        self.global_avg_pool = nn.AdaptiveAvgPool2d((1, 1))\n",
        "\n",
        "        self.fc1 = nn.Linear(512, 256)\n",
        "        self.dropout1 = nn.Dropout(0.5)\n",
        "\n",
        "        self.fc2 = nn.Linear(256, 128)\n",
        "        self.dropout2 = nn.Dropout(0.3)\n",
        "\n",
        "        self.fc3 = nn.Linear(128, num_classes)\n",
        "\n",
        "        self.residual1 = nn.Conv2d(64, 128, kernel_size=1, stride=2)\n",
        "        self.residual2 = nn.Conv2d(128, 256, kernel_size=1, stride=2)\n",
        "\n",
        "    def forward(self, x):\n",
        "        x1_out = F.relu(self.bn1(self.conv1(x)))\n",
        "        x = F.max_pool2d(x1_out, 2)\n",
        "\n",
        "        x2_out = F.relu(self.bn2(self.conv2(x)))\n",
        "        x = F.max_pool2d(x2_out, 2)\n",
        "\n",
        "        x = x + self.residual1(x1_out)[:, :, ::2, ::2]\n",
        "\n",
        "        x3_out = F.relu(self.bn3(self.conv3(x)))\n",
        "        x = F.max_pool2d(x3_out, 2)\n",
        "\n",
        "        x = x + self.residual2(x2_out)[:, :, ::2, ::2]\n",
        "\n",
        "        x = F.relu(self.bn4(self.conv4(x)))\n",
        "        x = F.max_pool2d(x, 2)\n",
        "\n",
        "        x = self.global_avg_pool(x)\n",
        "        x = x.view(x.size(0), -1)\n",
        "\n",
        "        x = F.relu(self.fc1(x))\n",
        "        x = self.dropout1(x)\n",
        "        x = F.relu(self.fc2(x))\n",
        "        x = self.dropout2(x)\n",
        "        x = self.fc3(x)\n",
        "\n",
        "        return x\n",
        "\n",
        "num_classes = 7\n",
        "model = FacialExpressionCNN(num_classes=num_classes)\n",
        "\n",
        "device = torch.device(\"cuda\" if torch.cuda.is_available() else \"cpu\")\n",
        "model.to(device)\n",
        "\n",
        "print(f\"Model instantiated and moved to device: {device}\")\n",
        "print(model)\n"
      ],
      "metadata": {
        "colab": {
          "base_uri": "https://localhost:8080/"
        },
        "id": "i2H1xixNKFda",
        "outputId": "c67457a1-3fde-4962-c0c7-6810a939efc9"
      },
      "execution_count": 42,
      "outputs": [
        {
          "output_type": "stream",
          "name": "stdout",
          "text": [
            "Model instantiated and moved to device: cuda\n",
            "FacialExpressionCNN(\n",
            "  (conv1): Conv2d(1, 64, kernel_size=(3, 3), stride=(1, 1), padding=(1, 1))\n",
            "  (bn1): BatchNorm2d(64, eps=1e-05, momentum=0.1, affine=True, track_running_stats=True)\n",
            "  (conv2): Conv2d(64, 128, kernel_size=(3, 3), stride=(1, 1), padding=(1, 1))\n",
            "  (bn2): BatchNorm2d(128, eps=1e-05, momentum=0.1, affine=True, track_running_stats=True)\n",
            "  (conv3): Conv2d(128, 256, kernel_size=(3, 3), stride=(1, 1), padding=(1, 1))\n",
            "  (bn3): BatchNorm2d(256, eps=1e-05, momentum=0.1, affine=True, track_running_stats=True)\n",
            "  (conv4): Conv2d(256, 512, kernel_size=(3, 3), stride=(1, 1), padding=(1, 1))\n",
            "  (bn4): BatchNorm2d(512, eps=1e-05, momentum=0.1, affine=True, track_running_stats=True)\n",
            "  (global_avg_pool): AdaptiveAvgPool2d(output_size=(1, 1))\n",
            "  (fc1): Linear(in_features=512, out_features=256, bias=True)\n",
            "  (dropout1): Dropout(p=0.5, inplace=False)\n",
            "  (fc2): Linear(in_features=256, out_features=128, bias=True)\n",
            "  (dropout2): Dropout(p=0.3, inplace=False)\n",
            "  (fc3): Linear(in_features=128, out_features=7, bias=True)\n",
            "  (residual1): Conv2d(64, 128, kernel_size=(1, 1), stride=(2, 2))\n",
            "  (residual2): Conv2d(128, 256, kernel_size=(1, 1), stride=(2, 2))\n",
            ")\n"
          ]
        }
      ]
    },
    {
      "cell_type": "code",
      "source": [
        "model = FacialExpressionCNN(num_classes=7).to(device)\n"
      ],
      "metadata": {
        "id": "DRra0-qKWWux"
      },
      "execution_count": 43,
      "outputs": []
    },
    {
      "cell_type": "code",
      "source": [
        "wandb.init(project=\"facial-expression-recognition\", entity=None)\n",
        "\n",
        "config = wandb.config\n",
        "config.batch_size = batch_size\n",
        "config.learning_rate = 0.001\n",
        "config.epochs = 30\n",
        "config.model_name = \"FacialExpressionCNN\"\n",
        "config.optimizer = \"Adam\"\n",
        "config.dropout = 0.5\n",
        "\n",
        "wandb.watch(model)"
      ],
      "metadata": {
        "colab": {
          "base_uri": "https://localhost:8080/",
          "height": 594
        },
        "id": "IPFv96fQLOYm",
        "outputId": "d016d2e7-6a4d-45e1-81be-4e59e3f8567f"
      },
      "execution_count": 44,
      "outputs": [
        {
          "output_type": "display_data",
          "data": {
            "text/plain": [
              "<IPython.core.display.HTML object>"
            ],
            "text/html": [
              "Finishing previous runs because reinit is set to 'default'."
            ]
          },
          "metadata": {}
        },
        {
          "output_type": "display_data",
          "data": {
            "text/plain": [
              "<IPython.core.display.HTML object>"
            ],
            "text/html": []
          },
          "metadata": {}
        },
        {
          "output_type": "display_data",
          "data": {
            "text/plain": [
              "<IPython.core.display.HTML object>"
            ],
            "text/html": [
              "<br>    <style><br>        .wandb-row {<br>            display: flex;<br>            flex-direction: row;<br>            flex-wrap: wrap;<br>            justify-content: flex-start;<br>            width: 100%;<br>        }<br>        .wandb-col {<br>            display: flex;<br>            flex-direction: column;<br>            flex-basis: 100%;<br>            flex: 1;<br>            padding: 10px;<br>        }<br>    </style><br><div class=\"wandb-row\"><div class=\"wandb-col\"><h3>Run history:</h3><br/><table class=\"wandb\"><tr><td>epoch</td><td>▁▂▂▃▃▄▅▅▆▆▇▇█</td></tr><tr><td>train_accuracy</td><td>▁▄▄▄▅▆▆▆▇▇▇▇█</td></tr><tr><td>train_loss</td><td>█▆▅▅▄▃▃▃▂▂▂▂▁</td></tr><tr><td>val_accuracy</td><td>▃▆▄▃▇▇█▅▅▆▁▆▆</td></tr><tr><td>val_loss</td><td>▂▄▅▃▃▄▂▆▃▁█▃▄</td></tr></table><br/></div><div class=\"wandb-col\"><h3>Run summary:</h3><br/><table class=\"wandb\"><tr><td>epoch</td><td>12</td></tr><tr><td>train_accuracy</td><td>96.27643</td></tr><tr><td>train_loss</td><td>0.1196</td></tr><tr><td>val_accuracy</td><td>58.6793</td></tr><tr><td>val_loss</td><td>2.13397</td></tr></table><br/></div></div>"
            ]
          },
          "metadata": {}
        },
        {
          "output_type": "display_data",
          "data": {
            "text/plain": [
              "<IPython.core.display.HTML object>"
            ],
            "text/html": [
              " View run <strong style=\"color:#cdcd00\">vocal-sea-8</strong> at: <a href='https://wandb.ai/lkuta22-free-university-of-tbilisi-/facial-expression-recognition/runs/dvrhfkn3' target=\"_blank\">https://wandb.ai/lkuta22-free-university-of-tbilisi-/facial-expression-recognition/runs/dvrhfkn3</a><br> View project at: <a href='https://wandb.ai/lkuta22-free-university-of-tbilisi-/facial-expression-recognition' target=\"_blank\">https://wandb.ai/lkuta22-free-university-of-tbilisi-/facial-expression-recognition</a><br>Synced 5 W&B file(s), 0 media file(s), 0 artifact file(s) and 1 other file(s)"
            ]
          },
          "metadata": {}
        },
        {
          "output_type": "display_data",
          "data": {
            "text/plain": [
              "<IPython.core.display.HTML object>"
            ],
            "text/html": [
              "Find logs at: <code>./wandb/run-20250607_124249-dvrhfkn3/logs</code>"
            ]
          },
          "metadata": {}
        },
        {
          "output_type": "display_data",
          "data": {
            "text/plain": [
              "<IPython.core.display.HTML object>"
            ],
            "text/html": [
              "Tracking run with wandb version 0.19.11"
            ]
          },
          "metadata": {}
        },
        {
          "output_type": "display_data",
          "data": {
            "text/plain": [
              "<IPython.core.display.HTML object>"
            ],
            "text/html": [
              "Run data is saved locally in <code>/content/wandb/run-20250607_125549-hx7syewg</code>"
            ]
          },
          "metadata": {}
        },
        {
          "output_type": "display_data",
          "data": {
            "text/plain": [
              "<IPython.core.display.HTML object>"
            ],
            "text/html": [
              "Syncing run <strong><a href='https://wandb.ai/lkuta22-free-university-of-tbilisi-/facial-expression-recognition/runs/hx7syewg' target=\"_blank\">prime-donkey-9</a></strong> to <a href='https://wandb.ai/lkuta22-free-university-of-tbilisi-/facial-expression-recognition' target=\"_blank\">Weights & Biases</a> (<a href='https://wandb.me/developer-guide' target=\"_blank\">docs</a>)<br>"
            ]
          },
          "metadata": {}
        },
        {
          "output_type": "display_data",
          "data": {
            "text/plain": [
              "<IPython.core.display.HTML object>"
            ],
            "text/html": [
              " View project at <a href='https://wandb.ai/lkuta22-free-university-of-tbilisi-/facial-expression-recognition' target=\"_blank\">https://wandb.ai/lkuta22-free-university-of-tbilisi-/facial-expression-recognition</a>"
            ]
          },
          "metadata": {}
        },
        {
          "output_type": "display_data",
          "data": {
            "text/plain": [
              "<IPython.core.display.HTML object>"
            ],
            "text/html": [
              " View run at <a href='https://wandb.ai/lkuta22-free-university-of-tbilisi-/facial-expression-recognition/runs/hx7syewg' target=\"_blank\">https://wandb.ai/lkuta22-free-university-of-tbilisi-/facial-expression-recognition/runs/hx7syewg</a>"
            ]
          },
          "metadata": {}
        }
      ]
    },
    {
      "cell_type": "code",
      "source": [
        "def train_model(model, train_loader, val_loader, criterion, optimizer, num_epochs):\n",
        "    best_val_accuracy = 0.0\n",
        "\n",
        "    for epoch in range(num_epochs):\n",
        "        # Training\n",
        "        model.train()\n",
        "        running_loss = 0.0\n",
        "        correct = 0\n",
        "        total = 0\n",
        "\n",
        "        for images, labels in train_loader:\n",
        "            images = images.to(device)\n",
        "            labels = labels.to(device)\n",
        "\n",
        "            optimizer.zero_grad()\n",
        "\n",
        "            # Forward pass\n",
        "            outputs = model(images)\n",
        "            loss = criterion(outputs, labels)\n",
        "\n",
        "            # Backward pass and optimize\n",
        "            loss.backward()\n",
        "            optimizer.step()\n",
        "\n",
        "            # Statistics\n",
        "            running_loss += loss.item()\n",
        "            _, predicted = torch.max(outputs.data, 1)\n",
        "            total += labels.size(0)\n",
        "            correct += (predicted == labels).sum().item()\n",
        "\n",
        "        train_loss = running_loss / len(train_loader)\n",
        "        train_accuracy = 100 * correct / total\n",
        "\n",
        "        # Validation\n",
        "        val_loss, val_accuracy = evaluate_model(model, val_loader, criterion)\n",
        "\n",
        "        # Print\n",
        "        print(f'Epoch {epoch+1}/{num_epochs}: '\n",
        "              f'Train Loss: {train_loss:.4f}, Train Acc: {train_accuracy:.2f}%, '\n",
        "              f'Val Loss: {val_loss:.4f}, Val Acc: {val_accuracy:.2f}%')\n",
        "\n",
        "        # Log metrics\n",
        "        wandb.log({\n",
        "            \"epoch\": epoch,\n",
        "            \"train_loss\": train_loss,\n",
        "            \"train_accuracy\": train_accuracy,\n",
        "            \"val_loss\": val_loss,\n",
        "            \"val_accuracy\": val_accuracy\n",
        "        })\n",
        "\n",
        "        #best model\n",
        "        if val_accuracy > best_val_accuracy:\n",
        "            best_val_accuracy = val_accuracy\n",
        "            torch.save(model.state_dict(), 'best_model.pth')\n",
        "            wandb.save('best_model.pth')\n",
        "\n",
        "    print(f'Finished Training. Best Val Accuracy: {best_val_accuracy:.2f}%')\n",
        "    return model\n",
        "\n",
        "def evaluate_model(model, loader, criterion):\n",
        "    model.eval()\n",
        "    running_loss = 0.0\n",
        "    correct = 0\n",
        "    total = 0\n",
        "\n",
        "    with torch.no_grad():\n",
        "        for images, labels in loader:\n",
        "            images = images.to(device)\n",
        "            labels = labels.to(device)\n",
        "\n",
        "            outputs = model(images)\n",
        "            loss = criterion(outputs, labels)\n",
        "\n",
        "            running_loss += loss.item()\n",
        "            _, predicted = torch.max(outputs.data, 1)\n",
        "            total += labels.size(0)\n",
        "            correct += (predicted == labels).sum().item()\n",
        "\n",
        "    loss = running_loss / len(loader)\n",
        "    accuracy = 100 * correct / total\n",
        "    return loss, accuracy\n",
        "\n",
        "criterion = nn.CrossEntropyLoss()\n",
        "optimizer = torch.optim.Adam(model.parameters(), lr=config.learning_rate)\n",
        "\n"
      ],
      "metadata": {
        "id": "5eW8mONHLgb_"
      },
      "execution_count": 26,
      "outputs": []
    },
    {
      "cell_type": "code",
      "source": [
        "model = train_model(model, train_loader, val_loader, criterion, optimizer, config.epochs)"
      ],
      "metadata": {
        "colab": {
          "base_uri": "https://localhost:8080/"
        },
        "id": "MTEhAF0gSkdV",
        "outputId": "12fa7182-f9e8-490c-ef4b-e8569c78bae1"
      },
      "execution_count": 46,
      "outputs": [
        {
          "output_type": "stream",
          "name": "stdout",
          "text": [
            "Epoch 1/30: Train Loss: 1.6623, Train Acc: 32.82%, Val Loss: 1.5516, Val Acc: 41.04%\n",
            "Epoch 2/30: Train Loss: 1.4103, Train Acc: 45.32%, Val Loss: 1.3144, Val Acc: 49.43%\n",
            "Epoch 3/30: Train Loss: 1.3002, Train Acc: 49.64%, Val Loss: 1.3363, Val Acc: 48.12%\n",
            "Epoch 4/30: Train Loss: 1.2190, Train Acc: 53.21%, Val Loss: 1.2228, Val Acc: 53.19%\n",
            "Epoch 5/30: Train Loss: 1.1455, Train Acc: 56.35%, Val Loss: 1.2856, Val Acc: 51.32%\n",
            "Epoch 6/30: Train Loss: 1.0798, Train Acc: 58.56%, Val Loss: 1.1646, Val Acc: 54.47%\n",
            "Epoch 7/30: Train Loss: 1.0061, Train Acc: 61.77%, Val Loss: 1.2844, Val Acc: 53.83%\n",
            "Epoch 8/30: Train Loss: 0.9325, Train Acc: 64.69%, Val Loss: 1.2590, Val Acc: 53.89%\n",
            "Epoch 9/30: Train Loss: 0.8604, Train Acc: 67.67%, Val Loss: 1.1545, Val Acc: 58.34%\n",
            "Epoch 10/30: Train Loss: 0.7850, Train Acc: 70.55%, Val Loss: 1.2978, Val Acc: 55.36%\n",
            "Epoch 11/30: Train Loss: 0.7011, Train Acc: 73.90%, Val Loss: 1.2990, Val Acc: 56.45%\n",
            "Epoch 12/30: Train Loss: 0.6361, Train Acc: 76.46%, Val Loss: 1.4191, Val Acc: 54.56%\n",
            "Epoch 13/30: Train Loss: 0.5688, Train Acc: 79.16%, Val Loss: 1.6505, Val Acc: 54.89%\n",
            "Epoch 14/30: Train Loss: 0.5031, Train Acc: 81.76%, Val Loss: 1.7209, Val Acc: 55.75%\n",
            "Epoch 15/30: Train Loss: 0.4559, Train Acc: 83.53%, Val Loss: 1.4772, Val Acc: 58.71%\n",
            "Epoch 16/30: Train Loss: 0.4050, Train Acc: 85.39%, Val Loss: 1.5932, Val Acc: 57.29%\n",
            "Epoch 17/30: Train Loss: 0.3701, Train Acc: 86.71%, Val Loss: 1.6106, Val Acc: 57.29%\n",
            "Epoch 18/30: Train Loss: 0.3225, Train Acc: 88.81%, Val Loss: 1.7280, Val Acc: 59.01%\n",
            "Epoch 19/30: Train Loss: 0.2921, Train Acc: 89.98%, Val Loss: 1.8907, Val Acc: 57.90%\n",
            "Epoch 20/30: Train Loss: 0.2721, Train Acc: 90.78%, Val Loss: 1.9031, Val Acc: 57.23%\n",
            "Epoch 21/30: Train Loss: 0.2366, Train Acc: 91.91%, Val Loss: 1.8667, Val Acc: 58.23%\n",
            "Epoch 22/30: Train Loss: 0.2305, Train Acc: 92.08%, Val Loss: 1.9158, Val Acc: 58.23%\n",
            "Epoch 23/30: Train Loss: 0.2103, Train Acc: 92.99%, Val Loss: 1.9435, Val Acc: 59.04%\n",
            "Epoch 24/30: Train Loss: 0.2016, Train Acc: 93.31%, Val Loss: 1.9010, Val Acc: 59.82%\n",
            "Epoch 25/30: Train Loss: 0.1876, Train Acc: 93.83%, Val Loss: 2.1029, Val Acc: 57.43%\n",
            "Epoch 26/30: Train Loss: 0.1849, Train Acc: 94.00%, Val Loss: 1.8461, Val Acc: 59.82%\n",
            "Epoch 27/30: Train Loss: 0.1601, Train Acc: 94.73%, Val Loss: 2.0952, Val Acc: 59.35%\n",
            "Epoch 28/30: Train Loss: 0.1564, Train Acc: 94.95%, Val Loss: 1.9469, Val Acc: 57.59%\n",
            "Epoch 29/30: Train Loss: 0.1519, Train Acc: 95.05%, Val Loss: 2.1147, Val Acc: 56.81%\n",
            "Epoch 30/30: Train Loss: 0.1369, Train Acc: 95.63%, Val Loss: 1.9595, Val Acc: 59.74%\n",
            "Finished Training. Best Val Accuracy: 59.82%\n"
          ]
        }
      ]
    },
    {
      "cell_type": "code",
      "source": [
        "model.load_state_dict(torch.load('best_model.pth'))\n",
        "\n",
        "test_loss, test_accuracy = evaluate_model(model, test_loader, criterion)\n",
        "print(f'Test Accuracy: {test_accuracy:.2f}%')\n",
        "\n",
        "wandb.log({\"test_accuracy\": test_accuracy})\n",
        "\n",
        "from sklearn.metrics import confusion_matrix\n",
        "import seaborn as sns\n",
        "\n",
        "def plot_confusion_matrix(loader):\n",
        "    model.eval()\n",
        "    all_preds = []\n",
        "    all_labels = []\n",
        "\n",
        "    with torch.no_grad():\n",
        "        for images, labels in loader:\n",
        "            images = images.to(device)\n",
        "            labels = labels.to(device)\n",
        "\n",
        "            outputs = model(images)\n",
        "            _, predicted = torch.max(outputs.data, 1)\n",
        "\n",
        "            all_preds.extend(predicted.cpu().numpy())\n",
        "            all_labels.extend(labels.cpu().numpy())\n",
        "\n",
        "    cm = confusion_matrix(all_labels, all_preds)\n",
        "    plt.figure(figsize=(10, 8))\n",
        "    sns.heatmap(cm, annot=True, fmt='d', cmap='Blues')\n",
        "    plt.xlabel('Predicted')\n",
        "    plt.ylabel('True')\n",
        "    plt.title('Confusion Matrix')\n",
        "    plt.show()\n",
        "\n",
        "    wandb.log({\"confusion_matrix\": wandb.plot.confusion_matrix(\n",
        "        preds=all_preds,\n",
        "        y_true=all_labels,\n",
        "        class_names=[\"Angry\", \"Disgust\", \"Fear\", \"Happy\", \"Sad\", \"Surprise\", \"Neutral\"]\n",
        "    )})\n",
        "\n",
        "plot_confusion_matrix(test_loader)\n",
        "\n",
        "wandb.finish()"
      ],
      "metadata": {
        "colab": {
          "base_uri": "https://localhost:8080/",
          "height": 1000
        },
        "id": "tGMlADItNM7A",
        "outputId": "09ee3a23-d035-4cdb-e1b2-9ad91c42b735"
      },
      "execution_count": 47,
      "outputs": [
        {
          "output_type": "stream",
          "name": "stdout",
          "text": [
            "Test Accuracy: 57.95%\n"
          ]
        },
        {
          "output_type": "display_data",
          "data": {
            "text/plain": [
              "<Figure size 1000x800 with 2 Axes>"
            ],
            "image/png": "[encoded data removed]"
          },
          "metadata": {}
        },
        {
          "output_type": "display_data",
          "data": {
            "text/plain": [
              "<IPython.core.display.HTML object>"
            ],
            "text/html": []
          },
          "metadata": {}
        },
        {
          "output_type": "display_data",
          "data": {
            "text/plain": [
              "<IPython.core.display.HTML object>"
            ],
            "text/html": [
              "<br>    <style><br>        .wandb-row {<br>            display: flex;<br>            flex-direction: row;<br>            flex-wrap: wrap;<br>            justify-content: flex-start;<br>            width: 100%;<br>        }<br>        .wandb-col {<br>            display: flex;<br>            flex-direction: column;<br>            flex-basis: 100%;<br>            flex: 1;<br>            padding: 10px;<br>        }<br>    </style><br><div class=\"wandb-row\"><div class=\"wandb-col\"><h3>Run history:</h3><br/><table class=\"wandb\"><tr><td>epoch</td><td>▁▁▁▂▂▂▂▃▃▃▃▄▄▄▄▅▅▅▅▆▆▆▆▇▇▇▇███</td></tr><tr><td>test_accuracy</td><td>▁</td></tr><tr><td>train_accuracy</td><td>▁▂▃▃▄▄▄▅▅▅▆▆▆▆▇▇▇▇▇▇██████████</td></tr><tr><td>train_loss</td><td>█▇▆▆▆▅▅▅▄▄▄▃▃▃▂▂▂▂▂▂▁▁▁▁▁▁▁▁▁▁</td></tr><tr><td>val_accuracy</td><td>▁▄▄▆▅▆▆▆▇▆▇▆▆▆█▇▇█▇▇▇▇██▇██▇▇█</td></tr><tr><td>val_loss</td><td>▄▂▂▁▂▁▂▂▁▂▂▃▅▅▃▄▄▅▆▆▆▇▇▆█▆█▇█▇</td></tr></table><br/></div><div class=\"wandb-col\"><h3>Run summary:</h3><br/><table class=\"wandb\"><tr><td>epoch</td><td>29</td></tr><tr><td>test_accuracy</td><td>57.95486</td></tr><tr><td>train_accuracy</td><td>95.63203</td></tr><tr><td>train_loss</td><td>0.13687</td></tr><tr><td>val_accuracy</td><td>59.73809</td></tr><tr><td>val_loss</td><td>1.95947</td></tr></table><br/></div></div>"
            ]
          },
          "metadata": {}
        },
        {
          "output_type": "display_data",
          "data": {
            "text/plain": [
              "<IPython.core.display.HTML object>"
            ],
            "text/html": [
              " View run <strong style=\"color:#cdcd00\">prime-donkey-9</strong> at: <a href='https://wandb.ai/lkuta22-free-university-of-tbilisi-/facial-expression-recognition/runs/hx7syewg' target=\"_blank\">https://wandb.ai/lkuta22-free-university-of-tbilisi-/facial-expression-recognition/runs/hx7syewg</a><br> View project at: <a href='https://wandb.ai/lkuta22-free-university-of-tbilisi-/facial-expression-recognition' target=\"_blank\">https://wandb.ai/lkuta22-free-university-of-tbilisi-/facial-expression-recognition</a><br>Synced 5 W&B file(s), 1 media file(s), 2 artifact file(s) and 1 other file(s)"
            ]
          },
          "metadata": {}
        },
        {
          "output_type": "display_data",
          "data": {
            "text/plain": [
              "<IPython.core.display.HTML object>"
            ],
            "text/html": [
              "Find logs at: <code>./wandb/run-20250607_125549-hx7syewg/logs</code>"
            ]
          },
          "metadata": {}
        }
      ]
    },
    {
      "cell_type": "code",
      "source": [
        "torch.save(model, 'facial_expression_model.pth')\n",
        "from google.colab import drive\n",
        "drive.mount('/content/drive')\n",
        "\n",
        "!cp facial_expression_model.pth /content/drive/MyDrive/\n",
        "!cp best_model.pth /content/drive/MyDrive/"
      ],
      "metadata": {
        "colab": {
          "base_uri": "https://localhost:8080/"
        },
        "id": "SYj7Tv4wRVON",
        "outputId": "72b4d5cd-6320-422f-852f-1d46dbb1fb57"
      },
      "execution_count": 48,
      "outputs": [
        {
          "output_type": "stream",
          "name": "stdout",
          "text": [
            "Drive already mounted at /content/drive; to attempt to forcibly remount, call drive.mount(\"/content/drive\", force_remount=True).\n"
          ]
        }
      ]
    },
    {
      "cell_type": "code",
      "source": [
        "import torch.nn as nn\n",
        "import torch.nn.functional as F\n",
        "import torch\n",
        "\n",
        "class EnhancedFacialExpressionCNN(nn.Module):\n",
        "    def __init__(self, num_classes=7):\n",
        "        super(EnhancedFacialExpressionCNN, self).__init__()\n",
        "\n",
        "        # Enhanced convolutional blocks with residual connections\n",
        "        self.conv_block1 = nn.Sequential(\n",
        "            nn.Conv2d(1, 64, kernel_size=3, padding=1, bias=False),\n",
        "            nn.BatchNorm2d(64),\n",
        "            nn.ReLU(inplace=True),\n",
        "            nn.Conv2d(64, 64, kernel_size=3, padding=1, bias=False),\n",
        "            nn.BatchNorm2d(64),\n",
        "            nn.ReLU(inplace=True),\n",
        "            nn.MaxPool2d(2, 2)\n",
        "        )\n",
        "\n",
        "        self.conv_block2 = nn.Sequential(\n",
        "            nn.Conv2d(64, 128, kernel_size=3, padding=1, bias=False),\n",
        "            nn.BatchNorm2d(128),\n",
        "            nn.ReLU(inplace=True),\n",
        "            nn.Conv2d(128, 128, kernel_size=3, padding=1, bias=False),\n",
        "            nn.BatchNorm2d(128),\n",
        "            nn.ReLU(inplace=True),\n",
        "            nn.MaxPool2d(2, 2)\n",
        "        )\n",
        "\n",
        "        self.conv_block3 = nn.Sequential(\n",
        "            nn.Conv2d(128, 256, kernel_size=3, padding=1, bias=False),\n",
        "            nn.BatchNorm2d(256),\n",
        "            nn.ReLU(inplace=True),\n",
        "            nn.Conv2d(256, 256, kernel_size=3, padding=1, bias=False),\n",
        "            nn.BatchNorm2d(256),\n",
        "            nn.ReLU(inplace=True),\n",
        "            nn.MaxPool2d(2, 2)\n",
        "        )\n",
        "\n",
        "        self.conv_block4 = nn.Sequential(\n",
        "            nn.Conv2d(256, 512, kernel_size=3, padding=1, bias=False),\n",
        "            nn.BatchNorm2d(512),\n",
        "            nn.ReLU(inplace=True),\n",
        "            nn.Conv2d(512, 512, kernel_size=3, padding=1, bias=False),\n",
        "            nn.BatchNorm2d(512),\n",
        "            nn.ReLU(inplace=True),\n",
        "            nn.AdaptiveAvgPool2d((1, 1))\n",
        "        )\n",
        "        # Enhanced classifier with more capacity\n",
        "        self.classifier = nn.Sequential(\n",
        "            nn.Linear(512, 512),\n",
        "            nn.BatchNorm1d(512),\n",
        "            nn.ReLU(inplace=True),\n",
        "            nn.Dropout(0.5),\n",
        "            nn.Linear(512, 256),\n",
        "            nn.BatchNorm1d(256),\n",
        "            nn.ReLU(inplace=True),\n",
        "            nn.Dropout(0.3),\n",
        "            nn.Linear(256, num_classes)\n",
        "        )\n",
        "\n",
        "        # Initialize weights\n",
        "        self._initialize_weights()\n",
        "\n",
        "    def _initialize_weights(self):\n",
        "        for m in self.modules():\n",
        "            if isinstance(m, nn.Conv2d):\n",
        "                nn.init.kaiming_normal_(m.weight, mode='fan_out', nonlinearity='relu')\n",
        "                if m.bias is not None:\n",
        "                    nn.init.constant_(m.bias, 0)\n",
        "            elif isinstance(m, nn.BatchNorm2d):\n",
        "                nn.init.constant_(m.weight, 1)\n",
        "                nn.init.constant_(m.bias, 0)\n",
        "            elif isinstance(m, nn.Linear):\n",
        "                nn.init.normal_(m.weight, 0, 0.01)\n",
        "                nn.init.constant_(m.bias, 0)\n",
        "\n",
        "    def forward(self, x):\n",
        "        x = self.conv_block1(x)\n",
        "        x = self.conv_block2(x)\n",
        "        x = self.conv_block3(x)\n",
        "        x = self.conv_block4(x)\n",
        "\n",
        "        x = x.view(x.size(0), -1)\n",
        "        x = self.classifier(x)\n",
        "\n",
        "        return x\n",
        "\n",
        "num_classes = 7\n",
        "model = EnhancedFacialExpressionCNN(num_classes=num_classes)\n",
        "\n",
        "device = torch.device(\"cuda\" if torch.cuda.is_available() else \"cpu\")\n",
        "model.to(device)\n",
        "\n",
        "print(f\"Enhanced model instantiated and moved to device: {device}\")\n",
        "print(model)"
      ],
      "metadata": {
        "colab": {
          "base_uri": "https://localhost:8080/"
        },
        "id": "YzBzEvxukKEu",
        "outputId": "816f7d23-3576-4528-d2fe-1c672aaae7c3"
      },
      "execution_count": 54,
      "outputs": [
        {
          "output_type": "stream",
          "name": "stdout",
          "text": [
            "Enhanced model instantiated and moved to device: cuda\n",
            "EnhancedFacialExpressionCNN(\n",
            "  (conv_block1): Sequential(\n",
            "    (0): Conv2d(1, 64, kernel_size=(3, 3), stride=(1, 1), padding=(1, 1), bias=False)\n",
            "    (1): BatchNorm2d(64, eps=1e-05, momentum=0.1, affine=True, track_running_stats=True)\n",
            "    (2): ReLU(inplace=True)\n",
            "    (3): Conv2d(64, 64, kernel_size=(3, 3), stride=(1, 1), padding=(1, 1), bias=False)\n",
            "    (4): BatchNorm2d(64, eps=1e-05, momentum=0.1, affine=True, track_running_stats=True)\n",
            "    (5): ReLU(inplace=True)\n",
            "    (6): MaxPool2d(kernel_size=2, stride=2, padding=0, dilation=1, ceil_mode=False)\n",
            "  )\n",
            "  (conv_block2): Sequential(\n",
            "    (0): Conv2d(64, 128, kernel_size=(3, 3), stride=(1, 1), padding=(1, 1), bias=False)\n",
            "    (1): BatchNorm2d(128, eps=1e-05, momentum=0.1, affine=True, track_running_stats=True)\n",
            "    (2): ReLU(inplace=True)\n",
            "    (3): Conv2d(128, 128, kernel_size=(3, 3), stride=(1, 1), padding=(1, 1), bias=False)\n",
            "    (4): BatchNorm2d(128, eps=1e-05, momentum=0.1, affine=True, track_running_stats=True)\n",
            "    (5): ReLU(inplace=True)\n",
            "    (6): MaxPool2d(kernel_size=2, stride=2, padding=0, dilation=1, ceil_mode=False)\n",
            "  )\n",
            "  (conv_block3): Sequential(\n",
            "    (0): Conv2d(128, 256, kernel_size=(3, 3), stride=(1, 1), padding=(1, 1), bias=False)\n",
            "    (1): BatchNorm2d(256, eps=1e-05, momentum=0.1, affine=True, track_running_stats=True)\n",
            "    (2): ReLU(inplace=True)\n",
            "    (3): Conv2d(256, 256, kernel_size=(3, 3), stride=(1, 1), padding=(1, 1), bias=False)\n",
            "    (4): BatchNorm2d(256, eps=1e-05, momentum=0.1, affine=True, track_running_stats=True)\n",
            "    (5): ReLU(inplace=True)\n",
            "    (6): MaxPool2d(kernel_size=2, stride=2, padding=0, dilation=1, ceil_mode=False)\n",
            "  )\n",
            "  (conv_block4): Sequential(\n",
            "    (0): Conv2d(256, 512, kernel_size=(3, 3), stride=(1, 1), padding=(1, 1), bias=False)\n",
            "    (1): BatchNorm2d(512, eps=1e-05, momentum=0.1, affine=True, track_running_stats=True)\n",
            "    (2): ReLU(inplace=True)\n",
            "    (3): Conv2d(512, 512, kernel_size=(3, 3), stride=(1, 1), padding=(1, 1), bias=False)\n",
            "    (4): BatchNorm2d(512, eps=1e-05, momentum=0.1, affine=True, track_running_stats=True)\n",
            "    (5): ReLU(inplace=True)\n",
            "    (6): AdaptiveAvgPool2d(output_size=(1, 1))\n",
            "  )\n",
            "  (classifier): Sequential(\n",
            "    (0): Linear(in_features=512, out_features=512, bias=True)\n",
            "    (1): BatchNorm1d(512, eps=1e-05, momentum=0.1, affine=True, track_running_stats=True)\n",
            "    (2): ReLU(inplace=True)\n",
            "    (3): Dropout(p=0.5, inplace=False)\n",
            "    (4): Linear(in_features=512, out_features=256, bias=True)\n",
            "    (5): BatchNorm1d(256, eps=1e-05, momentum=0.1, affine=True, track_running_stats=True)\n",
            "    (6): ReLU(inplace=True)\n",
            "    (7): Dropout(p=0.3, inplace=False)\n",
            "    (8): Linear(in_features=256, out_features=7, bias=True)\n",
            "  )\n",
            ")\n"
          ]
        }
      ]
    },
    {
      "cell_type": "code",
      "source": [
        "\n",
        "wandb.init(project=\"facial-expression-recognition-enhanced\", entity=None)\n",
        "\n",
        "config = wandb.config\n",
        "config.batch_size = batch_size\n",
        "config.learning_rate = 0.001\n",
        "config.epochs = 40\n",
        "config.model_name = \"EnhancedFacialExpressionCNN\"\n",
        "config.optimizer = \"Adam\"\n",
        "config.dropout = 0.5\n",
        "\n",
        "wandb.watch(model)\n",
        "\n",
        "criterion = nn.CrossEntropyLoss()\n",
        "optimizer = torch.optim.Adam(model.parameters(), lr=config.learning_rate)\n",
        "\n",
        "enhanced_model = train_model(model, train_loader, val_loader, criterion, optimizer, config.epochs)\n",
        "\n",
        "enhanced_model.load_state_dict(torch.load('best_model.pth'))\n",
        "\n",
        "test_loss_enhanced, test_accuracy_enhanced = evaluate_model(enhanced_model, test_loader, criterion)\n",
        "print(f'Enhanced Model Test Accuracy: {test_accuracy_enhanced:.2f}%')\n",
        "\n",
        "wandb.log({\"enhanced_test_accuracy\": test_accuracy_enhanced})\n",
        "\n",
        "plot_confusion_matrix(test_loader)\n",
        "\n",
        "wandb.finish()\n",
        "\n",
        "torch.save(enhanced_model, 'enhanced_facial_expression_model.pth')\n",
        "\n",
        "drive.mount('/content/drive', force_remount=True)\n",
        "!cp enhanced_facial_expression_model.pth /content/drive/MyDrive/\n",
        "!cp best_model.pth /content/drive/MyDrive/enhanced_best_model.pth"
      ],
      "metadata": {
        "colab": {
          "base_uri": "https://localhost:8080/",
          "height": 1000
        },
        "id": "CyhKyYVzlW1u",
        "outputId": "d9c30f97-2080-4d2a-b605-4d6b5c76733c"
      },
      "execution_count": 55,
      "outputs": [
        {
          "data": {
            "text/html": [
              "Tracking run with wandb version 0.19.11"
            ],
            "text/plain": [
              "<IPython.core.display.HTML object>"
            ]
          },
          "metadata": {},
          "output_type": "display_data"
        },
        {
          "data": {
            "text/html": [
              "Run data is saved locally in <code>/content/wandb/run-20250607_133320-x7xx32q8</code>"
            ],
            "text/plain": [
              "<IPython.core.display.HTML object>"
            ]
          },
          "metadata": {},
          "output_type": "display_data"
        },
        {
          "data": {
            "text/html": [
              "Syncing run <strong><a href='https://wandb.ai/lkuta22-free-university-of-tbilisi-/facial-expression-recognition-enhanced/runs/x7xx32q8' target=\"_blank\">spring-oath-1</a></strong> to <a href='https://wandb.ai/lkuta22-free-university-of-tbilisi-/facial-expression-recognition-enhanced' target=\"_blank\">Weights & Biases</a> (<a href='https://wandb.me/developer-guide' target=\"_blank\">docs</a>)<br>"
            ],
            "text/plain": [
              "<IPython.core.display.HTML object>"
            ]
          },
          "metadata": {},
          "output_type": "display_data"
        },
        {
          "data": {
            "text/html": [
              " View project at <a href='https://wandb.ai/lkuta22-free-university-of-tbilisi-/facial-expression-recognition-enhanced' target=\"_blank\">https://wandb.ai/lkuta22-free-university-of-tbilisi-/facial-expression-recognition-enhanced</a>"
            ],
            "text/plain": [
              "<IPython.core.display.HTML object>"
            ]
          },
          "metadata": {},
          "output_type": "display_data"
        },
        {
          "data": {
            "text/html": [
              " View run at <a href='https://wandb.ai/lkuta22-free-university-of-tbilisi-/facial-expression-recognition-enhanced/runs/x7xx32q8' target=\"_blank\">https://wandb.ai/lkuta22-free-university-of-tbilisi-/facial-expression-recognition-enhanced/runs/x7xx32q8</a>"
            ],
            "text/plain": [
              "<IPython.core.display.HTML object>"
            ]
          },
          "metadata": {},
          "output_type": "display_data"
        },
        {
          "output_type": "stream",
          "name": "stdout",
          "text": [
            "Epoch 1/40: Train Loss: 1.5693, Train Acc: 37.37%, Val Loss: 1.4165, Val Acc: 46.67%\n",
            "Epoch 2/40: Train Loss: 1.2529, Train Acc: 52.08%, Val Loss: 1.2126, Val Acc: 53.33%\n",
            "Epoch 3/40: Train Loss: 1.1303, Train Acc: 57.14%, Val Loss: 1.1332, Val Acc: 57.04%\n",
            "Epoch 4/40: Train Loss: 1.0429, Train Acc: 60.91%, Val Loss: 1.0492, Val Acc: 59.63%\n",
            "Epoch 5/40: Train Loss: 0.9628, Train Acc: 63.80%, Val Loss: 1.0216, Val Acc: 61.27%\n",
            "Epoch 6/40: Train Loss: 0.8841, Train Acc: 67.24%, Val Loss: 1.2036, Val Acc: 57.06%\n",
            "Epoch 7/40: Train Loss: 0.8053, Train Acc: 70.43%, Val Loss: 1.0122, Val Acc: 61.97%\n",
            "Epoch 8/40: Train Loss: 0.7159, Train Acc: 74.12%, Val Loss: 1.0859, Val Acc: 61.91%\n",
            "Epoch 9/40: Train Loss: 0.6179, Train Acc: 77.41%, Val Loss: 1.0998, Val Acc: 61.47%\n",
            "Epoch 10/40: Train Loss: 0.5162, Train Acc: 81.79%, Val Loss: 1.3510, Val Acc: 59.93%\n",
            "Epoch 11/40: Train Loss: 0.4248, Train Acc: 85.15%, Val Loss: 1.1655, Val Acc: 63.36%\n",
            "Epoch 12/40: Train Loss: 0.3402, Train Acc: 88.28%, Val Loss: 1.3269, Val Acc: 60.46%\n",
            "Epoch 13/40: Train Loss: 0.2754, Train Acc: 90.52%, Val Loss: 1.5817, Val Acc: 58.23%\n",
            "Epoch 14/40: Train Loss: 0.2226, Train Acc: 92.55%, Val Loss: 1.5972, Val Acc: 61.72%\n",
            "Epoch 15/40: Train Loss: 0.1885, Train Acc: 93.74%, Val Loss: 1.7871, Val Acc: 60.07%\n",
            "Epoch 16/40: Train Loss: 0.1535, Train Acc: 94.87%, Val Loss: 1.7083, Val Acc: 62.83%\n",
            "Epoch 17/40: Train Loss: 0.1392, Train Acc: 95.44%, Val Loss: 1.7318, Val Acc: 62.44%\n",
            "Epoch 18/40: Train Loss: 0.1376, Train Acc: 95.33%, Val Loss: 1.7531, Val Acc: 62.78%\n",
            "Epoch 19/40: Train Loss: 0.1042, Train Acc: 96.54%, Val Loss: 1.9108, Val Acc: 63.58%\n",
            "Epoch 20/40: Train Loss: 0.1039, Train Acc: 96.48%, Val Loss: 2.0224, Val Acc: 62.19%\n",
            "Epoch 21/40: Train Loss: 0.0993, Train Acc: 96.78%, Val Loss: 1.9811, Val Acc: 60.57%\n",
            "Epoch 22/40: Train Loss: 0.0907, Train Acc: 96.98%, Val Loss: 1.7540, Val Acc: 63.28%\n",
            "Epoch 23/40: Train Loss: 0.0827, Train Acc: 97.40%, Val Loss: 1.9414, Val Acc: 63.05%\n",
            "Epoch 24/40: Train Loss: 0.0904, Train Acc: 97.08%, Val Loss: 1.9255, Val Acc: 62.11%\n",
            "Epoch 25/40: Train Loss: 0.0772, Train Acc: 97.57%, Val Loss: 2.2038, Val Acc: 62.11%\n",
            "Epoch 26/40: Train Loss: 0.0757, Train Acc: 97.62%, Val Loss: 2.4716, Val Acc: 61.10%\n",
            "Epoch 27/40: Train Loss: 0.0762, Train Acc: 97.59%, Val Loss: 1.9397, Val Acc: 63.44%\n",
            "Epoch 28/40: Train Loss: 0.0720, Train Acc: 97.76%, Val Loss: 2.0749, Val Acc: 63.50%\n",
            "Epoch 29/40: Train Loss: 0.0664, Train Acc: 97.91%, Val Loss: 2.0385, Val Acc: 62.16%\n",
            "Epoch 30/40: Train Loss: 0.0718, Train Acc: 97.64%, Val Loss: 2.0533, Val Acc: 63.64%\n",
            "Epoch 31/40: Train Loss: 0.0607, Train Acc: 98.01%, Val Loss: 2.0909, Val Acc: 62.36%\n",
            "Epoch 32/40: Train Loss: 0.0629, Train Acc: 97.94%, Val Loss: 2.2074, Val Acc: 62.08%\n",
            "Epoch 33/40: Train Loss: 0.0586, Train Acc: 98.06%, Val Loss: 2.2202, Val Acc: 61.02%\n",
            "Epoch 34/40: Train Loss: 0.0609, Train Acc: 98.04%, Val Loss: 2.3301, Val Acc: 64.08%\n",
            "Epoch 35/40: Train Loss: 0.0574, Train Acc: 98.12%, Val Loss: 2.0682, Val Acc: 63.44%\n",
            "Epoch 36/40: Train Loss: 0.0502, Train Acc: 98.36%, Val Loss: 2.3559, Val Acc: 61.66%\n",
            "Epoch 37/40: Train Loss: 0.0533, Train Acc: 98.25%, Val Loss: 2.3203, Val Acc: 64.00%\n",
            "Epoch 38/40: Train Loss: 0.0497, Train Acc: 98.37%, Val Loss: 2.1540, Val Acc: 63.36%\n",
            "Epoch 39/40: Train Loss: 0.0532, Train Acc: 98.10%, Val Loss: 2.1990, Val Acc: 64.20%\n",
            "Epoch 40/40: Train Loss: 0.0561, Train Acc: 98.14%, Val Loss: 2.1747, Val Acc: 63.33%\n",
            "Finished Training. Best Val Accuracy: 64.20%\n",
            "Enhanced Model Test Accuracy: 62.80%\n"
          ]
        },
        {
          "output_type": "display_data",
          "data": {
            "text/plain": [
              "<Figure size 1000x800 with 2 Axes>"
            ],
            "image/png": "[encoded data removed]"
          },
          "metadata": {}
        },
        {
          "output_type": "display_data",
          "data": {
            "text/plain": [
              "<IPython.core.display.HTML object>"
            ],
            "text/html": []
          },
          "metadata": {}
        },
        {
          "output_type": "display_data",
          "data": {
            "text/plain": [
              "<IPython.core.display.HTML object>"
            ],
            "text/html": [
              "<br>    <style><br>        .wandb-row {<br>            display: flex;<br>            flex-direction: row;<br>            flex-wrap: wrap;<br>            justify-content: flex-start;<br>            width: 100%;<br>        }<br>        .wandb-col {<br>            display: flex;<br>            flex-direction: column;<br>            flex-basis: 100%;<br>            flex: 1;<br>            padding: 10px;<br>        }<br>    </style><br><div class=\"wandb-row\"><div class=\"wandb-col\"><h3>Run history:</h3><br/><table class=\"wandb\"><tr><td>enhanced_test_accuracy</td><td>▁</td></tr><tr><td>epoch</td><td>▁▁▁▂▂▂▂▂▂▃▃▃▃▃▄▄▄▄▄▄▅▅▅▅▅▅▆▆▆▆▆▇▇▇▇▇▇███</td></tr><tr><td>train_accuracy</td><td>▁▃▃▄▄▄▅▅▆▆▆▇▇▇▇█████████████████████████</td></tr><tr><td>train_loss</td><td>█▇▆▆▅▅▄▄▄▃▃▂▂▂▂▁▁▁▁▁▁▁▁▁▁▁▁▁▁▁▁▁▁▁▁▁▁▁▁▁</td></tr><tr><td>val_accuracy</td><td>▁▄▅▆▇▅▇▇▇▆█▇▆▇▆▇▇▇█▇▇██▇▇▇██▇█▇▇▇██▇████</td></tr><tr><td>val_loss</td><td>▃▂▂▁▁▂▁▁▁▃▂▃▄▄▅▄▄▅▅▆▆▅▅▅▇█▅▆▆▆▆▇▇▇▆▇▇▆▇▇</td></tr></table><br/></div><div class=\"wandb-col\"><h3>Run summary:</h3><br/><table class=\"wandb\"><tr><td>enhanced_test_accuracy</td><td>62.80301</td></tr><tr><td>epoch</td><td>39</td></tr><tr><td>train_accuracy</td><td>98.13996</td></tr><tr><td>train_loss</td><td>0.0561</td></tr><tr><td>val_accuracy</td><td>63.3324</td></tr><tr><td>val_loss</td><td>2.17474</td></tr></table><br/></div></div>"
            ]
          },
          "metadata": {}
        },
        {
          "output_type": "display_data",
          "data": {
            "text/plain": [
              "<IPython.core.display.HTML object>"
            ],
            "text/html": [
              " View run <strong style=\"color:#cdcd00\">spring-oath-1</strong> at: <a href='https://wandb.ai/lkuta22-free-university-of-tbilisi-/facial-expression-recognition-enhanced/runs/x7xx32q8' target=\"_blank\">https://wandb.ai/lkuta22-free-university-of-tbilisi-/facial-expression-recognition-enhanced/runs/x7xx32q8</a><br> View project at: <a href='https://wandb.ai/lkuta22-free-university-of-tbilisi-/facial-expression-recognition-enhanced' target=\"_blank\">https://wandb.ai/lkuta22-free-university-of-tbilisi-/facial-expression-recognition-enhanced</a><br>Synced 5 W&B file(s), 1 media file(s), 2 artifact file(s) and 1 other file(s)"
            ]
          },
          "metadata": {}
        },
        {
          "output_type": "display_data",
          "data": {
            "text/plain": [
              "<IPython.core.display.HTML object>"
            ],
            "text/html": [
              "Find logs at: <code>./wandb/run-20250607_133320-x7xx32q8/logs</code>"
            ]
          },
          "metadata": {}
        },
        {
          "output_type": "stream",
          "name": "stdout",
          "text": [
            "Mounted at /content/drive\n"
          ]
        }
      ]
    },
    {
      "cell_type": "code",
      "source": [
        "\n",
        "import torch.nn.functional as F\n",
        "\n",
        "class ResidualAttentionModel(nn.Module):\n",
        "    def __init__(self, num_classes=7):\n",
        "        super(ResidualAttentionModel, self).__init__()\n",
        "\n",
        "        self.conv1 = nn.Sequential(\n",
        "            nn.Conv2d(1, 64, kernel_size=7, stride=2, padding=3, bias=False),\n",
        "            nn.BatchNorm2d(64),\n",
        "            nn.ReLU(inplace=True),\n",
        "            nn.MaxPool2d(kernel_size=3, stride=2, padding=1)\n",
        "        )\n",
        "\n",
        "        self.ra_block1 = ResidualAttentionBlock(64, 128, stride=2)\n",
        "        self.ra_block2 = ResidualAttentionBlock(128, 256, stride=2)\n",
        "        self.ra_block3 = ResidualAttentionBlock(256, 512, stride=2)\n",
        "\n",
        "        self.avgpool = nn.AdaptiveAvgPool2d((1, 1))\n",
        "        self.fc = nn.Linear(512, num_classes)\n",
        "\n",
        "    def forward(self, x):\n",
        "        x = self.conv1(x)\n",
        "        x = self.ra_block1(x)\n",
        "        x = self.ra_block2(x)\n",
        "        x = self.ra_block3(x)\n",
        "        x = self.avgpool(x)\n",
        "        x = torch.flatten(x, 1)\n",
        "        x = self.fc(x)\n",
        "        return x\n",
        "\n",
        "class ResidualAttentionBlock(nn.Module):\n",
        "    def __init__(self, in_channels, out_channels, stride=1):\n",
        "        super().__init__()\n",
        "        self.conv1 = nn.Conv2d(in_channels, out_channels, kernel_size=3, stride=stride, padding=1, bias=False)\n",
        "        self.bn1 = nn.BatchNorm2d(out_channels)\n",
        "        self.conv2 = nn.Conv2d(out_channels, out_channels, kernel_size=3, padding=1, bias=False)\n",
        "        self.bn2 = nn.BatchNorm2d(out_channels)\n",
        "\n",
        "        # Attention mechanism\n",
        "        self.attention = nn.Sequential(\n",
        "            nn.AdaptiveAvgPool2d(1),\n",
        "            nn.Conv2d(out_channels, out_channels//8, kernel_size=1),\n",
        "            nn.ReLU(inplace=True),\n",
        "            nn.Conv2d(out_channels//8, out_channels, kernel_size=1),\n",
        "            nn.Sigmoid()\n",
        "        )\n",
        "\n",
        "        self.shortcut = nn.Sequential()\n",
        "        if stride != 1 or in_channels != out_channels:\n",
        "            self.shortcut = nn.Sequential(\n",
        "                nn.Conv2d(in_channels, out_channels, kernel_size=1, stride=stride, bias=False),\n",
        "                nn.BatchNorm2d(out_channels)\n",
        "            )\n",
        "\n",
        "    def forward(self, x):\n",
        "        residual = self.shortcut(x)\n",
        "\n",
        "        x = F.relu(self.bn1(self.conv1(x)))\n",
        "        x = self.bn2(self.conv2(x))\n",
        "\n",
        "        attention = self.attention(x)\n",
        "        x = x * attention\n",
        "\n",
        "        x += residual\n",
        "        return F.relu(x)"
      ],
      "metadata": {
        "id": "3whXX-UvmI0y"
      },
      "execution_count": 28,
      "outputs": []
    },
    {
      "cell_type": "code",
      "source": [
        "import numpy as np\n",
        "num_classes = 7\n",
        "model = ResidualAttentionModel(num_classes=num_classes)\n",
        "\n",
        "device = torch.device(\"cuda\" if torch.cuda.is_available() else \"cpu\")\n",
        "model.to(device)\n",
        "\n",
        "print(f\"Residual Attention Model instantiated and moved to device: {device}\")\n",
        "print(model)\n",
        "\n",
        "wandb.init(project=\"facial-expression-recognition-attention\", entity=None)\n",
        "\n",
        "config = wandb.config\n",
        "config.batch_size = batch_size\n",
        "config.learning_rate = 0.001\n",
        "config.epochs = 35\n",
        "config.model_name = \"ResidualAttentionModel\"\n",
        "config.optimizer = \"Adam\"\n",
        "\n",
        "wandb.watch(model)\n",
        "\n",
        "criterion = nn.CrossEntropyLoss()\n",
        "optimizer = torch.optim.Adam(model.parameters(), lr=config.learning_rate)\n",
        "\n",
        "attention_model = train_model(model, train_loader, val_loader, criterion, optimizer, config.epochs)\n",
        "\n",
        "attention_model.load_state_dict(torch.load('best_model.pth'))\n",
        "\n",
        "test_loss_attention, test_accuracy_attention = evaluate_model(attention_model, test_loader, criterion)\n",
        "print(f'Residual Attention Model Test Accuracy: {test_accuracy_attention:.2f}%')\n",
        "\n",
        "wandb.log({\"attention_test_accuracy\": test_accuracy_attention})\n",
        "\n",
        "\n",
        "wandb.finish()\n",
        "\n",
        "torch.save(attention_model, 'residual_attention_model.pth')\n",
        "\n",
        "drive.mount('/content/drive', force_remount=True)\n",
        "!cp residual_attention_model.pth /content/drive/MyDrive/\n",
        "!cp best_model.pth /content/drive/MyDrive/residual_attention_best_model.pth"
      ],
      "metadata": {
        "colab": {
          "base_uri": "https://localhost:8080/",
          "height": 1000
        },
        "id": "L3FXPitb-Ows",
        "outputId": "99e4fbb9-6e7f-4c0a-880c-5440fbf126f6"
      },
      "execution_count": 30,
      "outputs": [
        {
          "metadata": {
            "tags": null
          },
          "name": "stdout",
          "output_type": "stream",
          "text": [
            "Residual Attention Model instantiated and moved to device: cuda\n",
            "ResidualAttentionModel(\n",
            "  (conv1): Sequential(\n",
            "    (0): Conv2d(1, 64, kernel_size=(7, 7), stride=(2, 2), padding=(3, 3), bias=False)\n",
            "    (1): BatchNorm2d(64, eps=1e-05, momentum=0.1, affine=True, track_running_stats=True)\n",
            "    (2): ReLU(inplace=True)\n",
            "    (3): MaxPool2d(kernel_size=3, stride=2, padding=1, dilation=1, ceil_mode=False)\n",
            "  )\n",
            "  (ra_block1): ResidualAttentionBlock(\n",
            "    (conv1): Conv2d(64, 128, kernel_size=(3, 3), stride=(2, 2), padding=(1, 1), bias=False)\n",
            "    (bn1): BatchNorm2d(128, eps=1e-05, momentum=0.1, affine=True, track_running_stats=True)\n",
            "    (conv2): Conv2d(128, 128, kernel_size=(3, 3), stride=(1, 1), padding=(1, 1), bias=False)\n",
            "    (bn2): BatchNorm2d(128, eps=1e-05, momentum=0.1, affine=True, track_running_stats=True)\n",
            "    (attention): Sequential(\n",
            "      (0): AdaptiveAvgPool2d(output_size=1)\n",
            "      (1): Conv2d(128, 16, kernel_size=(1, 1), stride=(1, 1))\n",
            "      (2): ReLU(inplace=True)\n",
            "      (3): Conv2d(16, 128, kernel_size=(1, 1), stride=(1, 1))\n",
            "      (4): Sigmoid()\n",
            "    )\n",
            "    (shortcut): Sequential(\n",
            "      (0): Conv2d(64, 128, kernel_size=(1, 1), stride=(2, 2), bias=False)\n",
            "      (1): BatchNorm2d(128, eps=1e-05, momentum=0.1, affine=True, track_running_stats=True)\n",
            "    )\n",
            "  )\n",
            "  (ra_block2): ResidualAttentionBlock(\n",
            "    (conv1): Conv2d(128, 256, kernel_size=(3, 3), stride=(2, 2), padding=(1, 1), bias=False)\n",
            "    (bn1): BatchNorm2d(256, eps=1e-05, momentum=0.1, affine=True, track_running_stats=True)\n",
            "    (conv2): Conv2d(256, 256, kernel_size=(3, 3), stride=(1, 1), padding=(1, 1), bias=False)\n",
            "    (bn2): BatchNorm2d(256, eps=1e-05, momentum=0.1, affine=True, track_running_stats=True)\n",
            "    (attention): Sequential(\n",
            "      (0): AdaptiveAvgPool2d(output_size=1)\n",
            "      (1): Conv2d(256, 32, kernel_size=(1, 1), stride=(1, 1))\n",
            "      (2): ReLU(inplace=True)\n",
            "      (3): Conv2d(32, 256, kernel_size=(1, 1), stride=(1, 1))\n",
            "      (4): Sigmoid()\n",
            "    )\n",
            "    (shortcut): Sequential(\n",
            "      (0): Conv2d(128, 256, kernel_size=(1, 1), stride=(2, 2), bias=False)\n",
            "      (1): BatchNorm2d(256, eps=1e-05, momentum=0.1, affine=True, track_running_stats=True)\n",
            "    )\n",
            "  )\n",
            "  (ra_block3): ResidualAttentionBlock(\n",
            "    (conv1): Conv2d(256, 512, kernel_size=(3, 3), stride=(2, 2), padding=(1, 1), bias=False)\n",
            "    (bn1): BatchNorm2d(512, eps=1e-05, momentum=0.1, affine=True, track_running_stats=True)\n",
            "    (conv2): Conv2d(512, 512, kernel_size=(3, 3), stride=(1, 1), padding=(1, 1), bias=False)\n",
            "    (bn2): BatchNorm2d(512, eps=1e-05, momentum=0.1, affine=True, track_running_stats=True)\n",
            "    (attention): Sequential(\n",
            "      (0): AdaptiveAvgPool2d(output_size=1)\n",
            "      (1): Conv2d(512, 64, kernel_size=(1, 1), stride=(1, 1))\n",
            "      (2): ReLU(inplace=True)\n",
            "      (3): Conv2d(64, 512, kernel_size=(1, 1), stride=(1, 1))\n",
            "      (4): Sigmoid()\n",
            "    )\n",
            "    (shortcut): Sequential(\n",
            "      (0): Conv2d(256, 512, kernel_size=(1, 1), stride=(2, 2), bias=False)\n",
            "      (1): BatchNorm2d(512, eps=1e-05, momentum=0.1, affine=True, track_running_stats=True)\n",
            "    )\n",
            "  )\n",
            "  (avgpool): AdaptiveAvgPool2d(output_size=(1, 1))\n",
            "  (fc): Linear(in_features=512, out_features=7, bias=True)\n",
            ")\n"
          ]
        },
        {
          "data": {
            "text/html": [
              "Finishing previous runs because reinit is set to 'default'."
            ],
            "text/plain": [
              "<IPython.core.display.HTML object>"
            ]
          },
          "metadata": {},
          "output_type": "display_data"
        },
        {
          "data": {
            "text/html": [],
            "text/plain": [
              "<IPython.core.display.HTML object>"
            ]
          },
          "metadata": {},
          "output_type": "display_data"
        },
        {
          "data": {
            "text/html": [
              "<br>    <style><br>        .wandb-row {<br>            display: flex;<br>            flex-direction: row;<br>            flex-wrap: wrap;<br>            justify-content: flex-start;<br>            width: 100%;<br>        }<br>        .wandb-col {<br>            display: flex;<br>            flex-direction: column;<br>            flex-basis: 100%;<br>            flex: 1;<br>            padding: 10px;<br>        }<br>    </style><br><div class=\"wandb-row\"><div class=\"wandb-col\"><h3>Run history:</h3><br/><table class=\"wandb\"><tr><td>attention_test_accuracy</td><td>▁</td></tr><tr><td>epoch</td><td>▁▁▁▂▂▂▂▂▃▃▃▃▃▄▄▄▄▅▅▅▅▅▆▆▆▆▆▇▇▇▇▇███</td></tr><tr><td>train_accuracy</td><td>▁▂▃▄▄▅▆▇▇▇█████████████████████████</td></tr><tr><td>train_loss</td><td>█▇▆▆▅▄▃▂▂▂▂▁▁▁▁▁▁▁▁▁▁▁▁▁▁▁▁▁▁▁▁▁▁▁▁</td></tr><tr><td>val_accuracy</td><td>▁▄▆▇▇▇▇▇▇▆█▇▇█▆▇█▆▇███▇▇▇▇▇█▇▇▇▇▇▇█</td></tr><tr><td>val_loss</td><td>▁▁▁▁▁▂▂▃▄▄▄▅▅▅▆▆▆▆▆▆▇▇▆▆▇▇▇██▇█▇█▇█</td></tr></table><br/></div><div class=\"wandb-col\"><h3>Run summary:</h3><br/><table class=\"wandb\"><tr><td>attention_test_accuracy</td><td>56.06018</td></tr><tr><td>epoch</td><td>34</td></tr><tr><td>train_accuracy</td><td>98.62761</td></tr><tr><td>train_loss</td><td>0.04268</td></tr><tr><td>val_accuracy</td><td>56.64531</td></tr><tr><td>val_loss</td><td>3.21837</td></tr></table><br/></div></div>"
            ],
            "text/plain": [
              "<IPython.core.display.HTML object>"
            ]
          },
          "metadata": {},
          "output_type": "display_data"
        },
        {
          "data": {
            "text/html": [
              " View run <strong style=\"color:#cdcd00\">restful-universe-4</strong> at: <a href='https://wandb.ai/lkuta22-free-university-of-tbilisi-/facial-expression-recognition-attention/runs/wgqugmhg' target=\"_blank\">https://wandb.ai/lkuta22-free-university-of-tbilisi-/facial-expression-recognition-attention/runs/wgqugmhg</a><br> View project at: <a href='https://wandb.ai/lkuta22-free-university-of-tbilisi-/facial-expression-recognition-attention' target=\"_blank\">https://wandb.ai/lkuta22-free-university-of-tbilisi-/facial-expression-recognition-attention</a><br>Synced 5 W&B file(s), 0 media file(s), 0 artifact file(s) and 1 other file(s)"
            ],
            "text/plain": [
              "<IPython.core.display.HTML object>"
            ]
          },
          "metadata": {},
          "output_type": "display_data"
        },
        {
          "data": {
            "text/html": [
              "Find logs at: <code>./wandb/run-20250607_152942-wgqugmhg/logs</code>"
            ],
            "text/plain": [
              "<IPython.core.display.HTML object>"
            ]
          },
          "metadata": {},
          "output_type": "display_data"
        },
        {
          "data": {
            "text/html": [
              "Tracking run with wandb version 0.19.11"
            ],
            "text/plain": [
              "<IPython.core.display.HTML object>"
            ]
          },
          "metadata": {},
          "output_type": "display_data"
        },
        {
          "data": {
            "text/html": [
              "Run data is saved locally in <code>/content/wandb/run-20250607_161250-jt32sf5l</code>"
            ],
            "text/plain": [
              "<IPython.core.display.HTML object>"
            ]
          },
          "metadata": {},
          "output_type": "display_data"
        },
        {
          "data": {
            "text/html": [
              "Syncing run <strong><a href='https://wandb.ai/lkuta22-free-university-of-tbilisi-/facial-expression-recognition-attention/runs/jt32sf5l' target=\"_blank\">confused-galaxy-5</a></strong> to <a href='https://wandb.ai/lkuta22-free-university-of-tbilisi-/facial-expression-recognition-attention' target=\"_blank\">Weights & Biases</a> (<a href='https://wandb.me/developer-guide' target=\"_blank\">docs</a>)<br>"
            ],
            "text/plain": [
              "<IPython.core.display.HTML object>"
            ]
          },
          "metadata": {},
          "output_type": "display_data"
        },
        {
          "data": {
            "text/html": [
              " View project at <a href='https://wandb.ai/lkuta22-free-university-of-tbilisi-/facial-expression-recognition-attention' target=\"_blank\">https://wandb.ai/lkuta22-free-university-of-tbilisi-/facial-expression-recognition-attention</a>"
            ],
            "text/plain": [
              "<IPython.core.display.HTML object>"
            ]
          },
          "metadata": {},
          "output_type": "display_data"
        },
        {
          "data": {
            "text/html": [
              " View run at <a href='https://wandb.ai/lkuta22-free-university-of-tbilisi-/facial-expression-recognition-attention/runs/jt32sf5l' target=\"_blank\">https://wandb.ai/lkuta22-free-university-of-tbilisi-/facial-expression-recognition-attention/runs/jt32sf5l</a>"
            ],
            "text/plain": [
              "<IPython.core.display.HTML object>"
            ]
          },
          "metadata": {},
          "output_type": "display_data"
        },
        {
          "output_type": "stream",
          "name": "stdout",
          "text": [
            "Epoch 1/35: Train Loss: 1.4892, Train Acc: 41.98%, Val Loss: 1.3568, Val Acc: 47.00%\n",
            "Epoch 2/35: Train Loss: 1.2634, Train Acc: 51.92%, Val Loss: 1.2853, Val Acc: 49.71%\n",
            "Epoch 3/35: Train Loss: 1.1208, Train Acc: 57.35%, Val Loss: 1.2145, Val Acc: 54.75%\n",
            "Epoch 4/35: Train Loss: 0.9696, Train Acc: 63.60%, Val Loss: 1.2856, Val Acc: 54.25%\n",
            "Epoch 5/35: Train Loss: 0.8060, Train Acc: 69.90%, Val Loss: 1.2943, Val Acc: 55.81%\n",
            "Epoch 6/35: Train Loss: 0.6305, Train Acc: 76.70%, Val Loss: 1.3699, Val Acc: 55.67%\n",
            "Epoch 7/35: Train Loss: 0.4684, Train Acc: 82.74%, Val Loss: 1.5318, Val Acc: 56.23%\n",
            "Epoch 8/35: Train Loss: 0.3344, Train Acc: 88.40%, Val Loss: 1.7848, Val Acc: 53.91%\n",
            "Epoch 9/35: Train Loss: 0.2415, Train Acc: 91.45%, Val Loss: 1.9098, Val Acc: 54.92%\n",
            "Epoch 10/35: Train Loss: 0.1948, Train Acc: 93.37%, Val Loss: 2.1010, Val Acc: 56.39%\n",
            "Epoch 11/35: Train Loss: 0.1503, Train Acc: 94.93%, Val Loss: 2.2148, Val Acc: 56.42%\n",
            "Epoch 12/35: Train Loss: 0.1369, Train Acc: 95.49%, Val Loss: 2.2268, Val Acc: 56.53%\n",
            "Epoch 13/35: Train Loss: 0.1168, Train Acc: 96.16%, Val Loss: 2.3711, Val Acc: 56.59%\n",
            "Epoch 14/35: Train Loss: 0.1088, Train Acc: 96.34%, Val Loss: 2.5278, Val Acc: 57.31%\n",
            "Epoch 15/35: Train Loss: 0.1024, Train Acc: 96.64%, Val Loss: 2.4809, Val Acc: 56.70%\n",
            "Epoch 16/35: Train Loss: 0.0874, Train Acc: 97.15%, Val Loss: 2.6374, Val Acc: 55.31%\n",
            "Epoch 17/35: Train Loss: 0.0935, Train Acc: 96.91%, Val Loss: 2.5019, Val Acc: 55.78%\n",
            "Epoch 18/35: Train Loss: 0.0864, Train Acc: 97.14%, Val Loss: 2.7869, Val Acc: 56.17%\n",
            "Epoch 19/35: Train Loss: 0.0772, Train Acc: 97.46%, Val Loss: 2.6948, Val Acc: 56.28%\n",
            "Epoch 20/35: Train Loss: 0.0675, Train Acc: 97.74%, Val Loss: 2.7330, Val Acc: 56.39%\n",
            "Epoch 21/35: Train Loss: 0.0753, Train Acc: 97.42%, Val Loss: 2.7892, Val Acc: 57.06%\n",
            "Epoch 22/35: Train Loss: 0.0823, Train Acc: 97.24%, Val Loss: 2.7401, Val Acc: 56.62%\n",
            "Epoch 23/35: Train Loss: 0.0577, Train Acc: 98.13%, Val Loss: 2.8613, Val Acc: 55.70%\n",
            "Epoch 24/35: Train Loss: 0.0636, Train Acc: 97.90%, Val Loss: 2.8662, Val Acc: 55.73%\n",
            "Epoch 25/35: Train Loss: 0.0619, Train Acc: 97.93%, Val Loss: 2.9311, Val Acc: 56.92%\n",
            "Epoch 26/35: Train Loss: 0.0589, Train Acc: 97.89%, Val Loss: 2.8761, Val Acc: 57.65%\n",
            "Epoch 27/35: Train Loss: 0.0543, Train Acc: 98.15%, Val Loss: 3.1112, Val Acc: 57.06%\n",
            "Epoch 28/35: Train Loss: 0.0653, Train Acc: 97.75%, Val Loss: 2.8297, Val Acc: 54.95%\n",
            "Epoch 29/35: Train Loss: 0.0467, Train Acc: 98.44%, Val Loss: 3.0889, Val Acc: 56.81%\n",
            "Epoch 30/35: Train Loss: 0.0531, Train Acc: 98.10%, Val Loss: 3.0447, Val Acc: 55.67%\n",
            "Epoch 31/35: Train Loss: 0.0494, Train Acc: 98.35%, Val Loss: 3.0901, Val Acc: 56.67%\n",
            "Epoch 32/35: Train Loss: 0.0508, Train Acc: 98.26%, Val Loss: 3.1790, Val Acc: 55.48%\n",
            "Epoch 33/35: Train Loss: 0.0525, Train Acc: 98.15%, Val Loss: 3.0057, Val Acc: 57.34%\n",
            "Epoch 34/35: Train Loss: 0.0415, Train Acc: 98.51%, Val Loss: 3.1018, Val Acc: 57.12%\n",
            "Epoch 35/35: Train Loss: 0.0436, Train Acc: 98.52%, Val Loss: 3.2625, Val Acc: 55.50%\n",
            "Finished Training. Best Val Accuracy: 57.65%\n",
            "Residual Attention Model Test Accuracy: 55.61%\n"
          ]
        },
        {
          "output_type": "display_data",
          "data": {
            "text/plain": [
              "<IPython.core.display.HTML object>"
            ],
            "text/html": []
          },
          "metadata": {}
        },
        {
          "output_type": "display_data",
          "data": {
            "text/plain": [
              "<IPython.core.display.HTML object>"
            ],
            "text/html": [
              "<br>    <style><br>        .wandb-row {<br>            display: flex;<br>            flex-direction: row;<br>            flex-wrap: wrap;<br>            justify-content: flex-start;<br>            width: 100%;<br>        }<br>        .wandb-col {<br>            display: flex;<br>            flex-direction: column;<br>            flex-basis: 100%;<br>            flex: 1;<br>            padding: 10px;<br>        }<br>    </style><br><div class=\"wandb-row\"><div class=\"wandb-col\"><h3>Run history:</h3><br/><table class=\"wandb\"><tr><td>attention_test_accuracy</td><td>▁</td></tr><tr><td>epoch</td><td>▁▁▁▂▂▂▂▂▃▃▃▃▃▄▄▄▄▅▅▅▅▅▆▆▆▆▆▇▇▇▇▇███</td></tr><tr><td>train_accuracy</td><td>▁▂▃▄▄▅▆▇▇▇█████████████████████████</td></tr><tr><td>train_loss</td><td>█▇▆▅▅▄▃▂▂▂▂▁▁▁▁▁▁▁▁▁▁▁▁▁▁▁▁▁▁▁▁▁▁▁▁</td></tr><tr><td>val_accuracy</td><td>▁▃▆▆▇▇▇▆▆▇▇▇▇█▇▆▇▇▇▇█▇▇▇███▆▇▇▇▇██▇</td></tr><tr><td>val_loss</td><td>▁▁▁▁▁▂▂▃▃▄▄▄▅▅▅▆▅▆▆▆▆▆▇▇▇▇▇▇▇▇▇█▇▇█</td></tr></table><br/></div><div class=\"wandb-col\"><h3>Run summary:</h3><br/><table class=\"wandb\"><tr><td>attention_test_accuracy</td><td>55.61438</td></tr><tr><td>epoch</td><td>34</td></tr><tr><td>train_accuracy</td><td>98.52311</td></tr><tr><td>train_loss</td><td>0.04355</td></tr><tr><td>val_accuracy</td><td>55.50293</td></tr><tr><td>val_loss</td><td>3.26249</td></tr></table><br/></div></div>"
            ]
          },
          "metadata": {}
        },
        {
          "output_type": "display_data",
          "data": {
            "text/plain": [
              "<IPython.core.display.HTML object>"
            ],
            "text/html": [
              " View run <strong style=\"color:#cdcd00\">confused-galaxy-5</strong> at: <a href='https://wandb.ai/lkuta22-free-university-of-tbilisi-/facial-expression-recognition-attention/runs/jt32sf5l' target=\"_blank\">https://wandb.ai/lkuta22-free-university-of-tbilisi-/facial-expression-recognition-attention/runs/jt32sf5l</a><br> View project at: <a href='https://wandb.ai/lkuta22-free-university-of-tbilisi-/facial-expression-recognition-attention' target=\"_blank\">https://wandb.ai/lkuta22-free-university-of-tbilisi-/facial-expression-recognition-attention</a><br>Synced 5 W&B file(s), 0 media file(s), 0 artifact file(s) and 1 other file(s)"
            ]
          },
          "metadata": {}
        },
        {
          "output_type": "display_data",
          "data": {
            "text/plain": [
              "<IPython.core.display.HTML object>"
            ],
            "text/html": [
              "Find logs at: <code>./wandb/run-20250607_161250-jt32sf5l/logs</code>"
            ]
          },
          "metadata": {}
        },
        {
          "output_type": "error",
          "ename": "NameError",
          "evalue": "name 'drive' is not defined",
          "traceback": [
            "\u001b[0;31m---------------------------------------------------------------------------\u001b[0m",
            "\u001b[0;31mNameError\u001b[0m                                 Traceback (most recent call last)",
            "\u001b[0;32m<ipython-input-30-c41bb583737a>\u001b[0m in \u001b[0;36m<cell line: 0>\u001b[0;34m()\u001b[0m\n\u001b[1;32m     37\u001b[0m \u001b[0mtorch\u001b[0m\u001b[0;34m.\u001b[0m\u001b[0msave\u001b[0m\u001b[0;34m(\u001b[0m\u001b[0mattention_model\u001b[0m\u001b[0;34m,\u001b[0m \u001b[0;34m'residual_attention_model.pth'\u001b[0m\u001b[0;34m)\u001b[0m\u001b[0;34m\u001b[0m\u001b[0;34m\u001b[0m\u001b[0m\n\u001b[1;32m     38\u001b[0m \u001b[0;34m\u001b[0m\u001b[0m\n\u001b[0;32m---> 39\u001b[0;31m \u001b[0mdrive\u001b[0m\u001b[0;34m.\u001b[0m\u001b[0mmount\u001b[0m\u001b[0;34m(\u001b[0m\u001b[0;34m'/content/drive'\u001b[0m\u001b[0;34m,\u001b[0m \u001b[0mforce_remount\u001b[0m\u001b[0;34m=\u001b[0m\u001b[0;32mTrue\u001b[0m\u001b[0;34m)\u001b[0m\u001b[0;34m\u001b[0m\u001b[0;34m\u001b[0m\u001b[0m\n\u001b[0m\u001b[1;32m     40\u001b[0m \u001b[0mget_ipython\u001b[0m\u001b[0;34m(\u001b[0m\u001b[0;34m)\u001b[0m\u001b[0;34m.\u001b[0m\u001b[0msystem\u001b[0m\u001b[0;34m(\u001b[0m\u001b[0;34m'cp residual_attention_model.pth /content/drive/MyDrive/'\u001b[0m\u001b[0;34m)\u001b[0m\u001b[0;34m\u001b[0m\u001b[0;34m\u001b[0m\u001b[0m\n\u001b[1;32m     41\u001b[0m \u001b[0mget_ipython\u001b[0m\u001b[0;34m(\u001b[0m\u001b[0;34m)\u001b[0m\u001b[0;34m.\u001b[0m\u001b[0msystem\u001b[0m\u001b[0;34m(\u001b[0m\u001b[0;34m'cp best_model.pth /content/drive/MyDrive/residual_attention_best_model.pth'\u001b[0m\u001b[0;34m)\u001b[0m\u001b[0;34m\u001b[0m\u001b[0;34m\u001b[0m\u001b[0m\n",
            "\u001b[0;31mNameError\u001b[0m: name 'drive' is not defined"
          ]
        }
      ]
    },
    {
      "cell_type": "code",
      "source": [],
      "metadata": {
        "id": "MdJe-Vhw-Glj"
      },
      "execution_count": null,
      "outputs": []
    },
    {
      "cell_type": "markdown",
      "source": [],
      "metadata": {
        "id": "X8GNflJ9-M7N"
      }
    }
  ]
}